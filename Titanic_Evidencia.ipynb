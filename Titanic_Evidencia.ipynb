{
  "nbformat": 4,
  "nbformat_minor": 0,
  "metadata": {
    "colab": {
      "provenance": [],
      "include_colab_link": true
    },
    "kernelspec": {
      "name": "python3",
      "display_name": "Python 3"
    },
    "language_info": {
      "name": "python"
    }
  },
  "cells": [
    {
      "cell_type": "markdown",
      "metadata": {
        "id": "view-in-github",
        "colab_type": "text"
      },
      "source": [
        "<a href=\"https://colab.research.google.com/github/YaelLopezS/Evidencia-Titanic/blob/main/Titanic_Evidencia.ipynb\" target=\"_parent\"><img src=\"https://colab.research.google.com/assets/colab-badge.svg\" alt=\"Open In Colab\"/></a>"
      ]
    },
    {
      "cell_type": "markdown",
      "source": [
        "# Predicción de Supervivencia en el Titanic\n",
        "\n",
        "### Rosa Vanessa Palacios Beltran – A01652612\n",
        "### Irving Yael López Solis – A01664809\n",
        "### Diego Aguilar Torres – A01657884\n",
        "### Santiago Calderón Ortega – A01663888\n",
        "### Cynthia Amador Santiago – A01737854\n",
        "### David Alberto Padrón Sánchez – A01663806\n",
        "### Katia Geraldine Vidals Estrever – A01657587"
      ],
      "metadata": {
        "id": "31xoh67S6vNg"
      }
    },
    {
      "cell_type": "markdown",
      "source": [
        "# Introducción\n",
        "\n",
        "En este sprint trabajamos con el dataset del **Titanic (Kaggle)** con el objetivo de:\n",
        "\n",
        "- Predecir la **supervivencia de los pasajeros**.  \n",
        "- Explorar **arquetipos mediante clustering**.  \n",
        "- Preparar un **ETL reproducible**.  \n",
        "- Generar un **dataset limpio y listo para modelado**.  \n",
        "\n",
        "A partir de este dataset, planteamos **hipótesis iniciales** para guiar nuestro análisis:\n",
        "\n",
        "- Los pasajeros en **cubiertas superiores** (A, B, C) tenían mayor probabilidad de sobrevivir que aquellos en cubiertas inferiores.  \n",
        "- El **tamaño del grupo familiar** influyó en la supervivencia: quienes viajaban en grupos pequeños (2–4 familiares) tuvieron más oportunidades que los que viajaban solos o en familias grandes.  \n",
        "\n",
        "Estas hipótesis nos servirán como punto de partida para evaluar los **modelos supervisados**, el **clustering** y la **estrategia híbrida** desarrollada en este sprint."
      ],
      "metadata": {
        "id": "nktV7hbs61UU"
      }
    },
    {
      "cell_type": "code",
      "execution_count": null,
      "metadata": {
        "colab": {
          "base_uri": "https://localhost:8080/"
        },
        "id": "_kzThahYH9Dx",
        "outputId": "85cf23e5-f7ea-40f4-9263-724c3686ca9e"
      },
      "outputs": [
        {
          "output_type": "stream",
          "name": "stdout",
          "text": [
            "Mounted at /content/drive\n"
          ]
        }
      ],
      "source": [
        "from google.colab import drive\n",
        "drive.mount('/content/drive')"
      ]
    },
    {
      "cell_type": "markdown",
      "source": [
        "Cargamos las librerias"
      ],
      "metadata": {
        "id": "cX31iAQXK76V"
      }
    },
    {
      "cell_type": "code",
      "source": [
        "import numpy as np\n",
        "import pandas as pd\n",
        "import seaborn as sns\n",
        "import matplotlib.pyplot as plt\n",
        "\n",
        "# Utilizaremos estas librerias para transformar las columnas en el proceso el pipeline\n",
        "from sklearn.compose import ColumnTransformer\n",
        "from sklearn.preprocessing import StandardScaler, OneHotEncoder\n",
        "\n",
        "\n",
        "# Importamos nuestros modelos que usaremos\n",
        "from sklearn.linear_model import LogisticRegression # Modelo de regresion logistica\n",
        "from sklearn.ensemble import RandomForestClassifier # Modelo de Random Forest\n",
        "from sklearn.neighbors import KNeighborsClassifier # Modelo de KNN\n",
        "from sklearn.pipeline import Pipeline # Importamos el objeto pipeline para encadenar pasos como preprocesamiento + modelado\n",
        "\n",
        "\n",
        "# Validacion cruzada estratificada\n",
        "from sklearn.model_selection import StratifiedKFold, cross_validate # StratifiedKFold: para dividir el dataset en 5 partes (folds) manteniendo la proporcion de clases (survived) en cada fold. cross_validate: para entrenar y evaluar el modelo en cada fold, obteniendo multiples metricas\n",
        "from sklearn.metrics import make_scorer, roc_auc_score, accuracy_score, precision_score, recall_score\n",
        "\n",
        "\n",
        "# --- Matriz de confusion de la regresion logistica ---\n",
        "from sklearn.model_selection import train_test_split\n",
        "from sklearn.pipeline import Pipeline\n",
        "from sklearn.linear_model import LogisticRegression\n",
        "from sklearn.metrics import ConfusionMatrixDisplay\n",
        "# --- Matriz de confusion para Random Forest ---\n",
        "from sklearn.ensemble import RandomForestClassifier\n",
        "# --- Matriz de cnfusion para knn ---\n",
        "from sklearn.neighbors import KNeighborsClassifier\n",
        "\n",
        "\n",
        "# --- Curva ROC ---\n",
        "from sklearn.metrics import RocCurveDisplay\n",
        "\n",
        "\n",
        "# --- Comparacion de las tres curvas ROC ---\n",
        "from sklearn.metrics import roc_curve, auc\n",
        "\n",
        "\n",
        "# --- PCA ---\n",
        "from sklearn.decomposition import PCA\n",
        "\n",
        "# --- VotingClassifier para MoE ---\n",
        "from sklearn.ensemble import VotingClassifier"
      ],
      "metadata": {
        "id": "hC70nDpdK607"
      },
      "execution_count": null,
      "outputs": []
    },
    {
      "cell_type": "markdown",
      "source": [
        "# Extract\n",
        "En esta sección realizamos la fase de **extracción de datos**, donde cargamos el dataset del Titanic de Kaggle y exploramos su estructura.  "
      ],
      "metadata": {
        "id": "Qy4wJQZUKmEu"
      }
    },
    {
      "cell_type": "code",
      "source": [
        "df_titanic_train = pd.read_csv('/content/drive/MyDrive/equipo3/Titanic-Evidencia/train.csv')\n",
        "df_titanic_test = pd.read_csv('/content/drive/MyDrive/equipo3/Titanic-Evidencia/test.csv')"
      ],
      "metadata": {
        "id": "knpr0pchK15C"
      },
      "execution_count": null,
      "outputs": []
    },
    {
      "cell_type": "code",
      "source": [
        "df_titanic_train.head()"
      ],
      "metadata": {
        "colab": {
          "base_uri": "https://localhost:8080/",
          "height": 206
        },
        "id": "2XeY9eO2LDUQ",
        "outputId": "baf2e9a9-c8e2-42a0-eff4-18994ae6b94f"
      },
      "execution_count": null,
      "outputs": [
        {
          "output_type": "execute_result",
          "data": {
            "text/plain": [
              "   PassengerId  Survived  Pclass  \\\n",
              "0            1         0       3   \n",
              "1            2         1       1   \n",
              "2            3         1       3   \n",
              "3            4         1       1   \n",
              "4            5         0       3   \n",
              "\n",
              "                                                Name     Sex   Age  SibSp  \\\n",
              "0                            Braund, Mr. Owen Harris    male  22.0      1   \n",
              "1  Cumings, Mrs. John Bradley (Florence Briggs Th...  female  38.0      1   \n",
              "2                             Heikkinen, Miss. Laina  female  26.0      0   \n",
              "3       Futrelle, Mrs. Jacques Heath (Lily May Peel)  female  35.0      1   \n",
              "4                           Allen, Mr. William Henry    male  35.0      0   \n",
              "\n",
              "   Parch            Ticket     Fare Cabin Embarked  \n",
              "0      0         A/5 21171   7.2500   NaN        S  \n",
              "1      0          PC 17599  71.2833   C85        C  \n",
              "2      0  STON/O2. 3101282   7.9250   NaN        S  \n",
              "3      0            113803  53.1000  C123        S  \n",
              "4      0            373450   8.0500   NaN        S  "
            ],
            "text/html": [
              "\n",
              "  <div id=\"df-659ff170-2779-4e72-9236-a34ead0c2490\" class=\"colab-df-container\">\n",
              "    <div>\n",
              "<style scoped>\n",
              "    .dataframe tbody tr th:only-of-type {\n",
              "        vertical-align: middle;\n",
              "    }\n",
              "\n",
              "    .dataframe tbody tr th {\n",
              "        vertical-align: top;\n",
              "    }\n",
              "\n",
              "    .dataframe thead th {\n",
              "        text-align: right;\n",
              "    }\n",
              "</style>\n",
              "<table border=\"1\" class=\"dataframe\">\n",
              "  <thead>\n",
              "    <tr style=\"text-align: right;\">\n",
              "      <th></th>\n",
              "      <th>PassengerId</th>\n",
              "      <th>Survived</th>\n",
              "      <th>Pclass</th>\n",
              "      <th>Name</th>\n",
              "      <th>Sex</th>\n",
              "      <th>Age</th>\n",
              "      <th>SibSp</th>\n",
              "      <th>Parch</th>\n",
              "      <th>Ticket</th>\n",
              "      <th>Fare</th>\n",
              "      <th>Cabin</th>\n",
              "      <th>Embarked</th>\n",
              "    </tr>\n",
              "  </thead>\n",
              "  <tbody>\n",
              "    <tr>\n",
              "      <th>0</th>\n",
              "      <td>1</td>\n",
              "      <td>0</td>\n",
              "      <td>3</td>\n",
              "      <td>Braund, Mr. Owen Harris</td>\n",
              "      <td>male</td>\n",
              "      <td>22.0</td>\n",
              "      <td>1</td>\n",
              "      <td>0</td>\n",
              "      <td>A/5 21171</td>\n",
              "      <td>7.2500</td>\n",
              "      <td>NaN</td>\n",
              "      <td>S</td>\n",
              "    </tr>\n",
              "    <tr>\n",
              "      <th>1</th>\n",
              "      <td>2</td>\n",
              "      <td>1</td>\n",
              "      <td>1</td>\n",
              "      <td>Cumings, Mrs. John Bradley (Florence Briggs Th...</td>\n",
              "      <td>female</td>\n",
              "      <td>38.0</td>\n",
              "      <td>1</td>\n",
              "      <td>0</td>\n",
              "      <td>PC 17599</td>\n",
              "      <td>71.2833</td>\n",
              "      <td>C85</td>\n",
              "      <td>C</td>\n",
              "    </tr>\n",
              "    <tr>\n",
              "      <th>2</th>\n",
              "      <td>3</td>\n",
              "      <td>1</td>\n",
              "      <td>3</td>\n",
              "      <td>Heikkinen, Miss. Laina</td>\n",
              "      <td>female</td>\n",
              "      <td>26.0</td>\n",
              "      <td>0</td>\n",
              "      <td>0</td>\n",
              "      <td>STON/O2. 3101282</td>\n",
              "      <td>7.9250</td>\n",
              "      <td>NaN</td>\n",
              "      <td>S</td>\n",
              "    </tr>\n",
              "    <tr>\n",
              "      <th>3</th>\n",
              "      <td>4</td>\n",
              "      <td>1</td>\n",
              "      <td>1</td>\n",
              "      <td>Futrelle, Mrs. Jacques Heath (Lily May Peel)</td>\n",
              "      <td>female</td>\n",
              "      <td>35.0</td>\n",
              "      <td>1</td>\n",
              "      <td>0</td>\n",
              "      <td>113803</td>\n",
              "      <td>53.1000</td>\n",
              "      <td>C123</td>\n",
              "      <td>S</td>\n",
              "    </tr>\n",
              "    <tr>\n",
              "      <th>4</th>\n",
              "      <td>5</td>\n",
              "      <td>0</td>\n",
              "      <td>3</td>\n",
              "      <td>Allen, Mr. William Henry</td>\n",
              "      <td>male</td>\n",
              "      <td>35.0</td>\n",
              "      <td>0</td>\n",
              "      <td>0</td>\n",
              "      <td>373450</td>\n",
              "      <td>8.0500</td>\n",
              "      <td>NaN</td>\n",
              "      <td>S</td>\n",
              "    </tr>\n",
              "  </tbody>\n",
              "</table>\n",
              "</div>\n",
              "    <div class=\"colab-df-buttons\">\n",
              "\n",
              "  <div class=\"colab-df-container\">\n",
              "    <button class=\"colab-df-convert\" onclick=\"convertToInteractive('df-659ff170-2779-4e72-9236-a34ead0c2490')\"\n",
              "            title=\"Convert this dataframe to an interactive table.\"\n",
              "            style=\"display:none;\">\n",
              "\n",
              "  <svg xmlns=\"http://www.w3.org/2000/svg\" height=\"24px\" viewBox=\"0 -960 960 960\">\n",
              "    <path d=\"M120-120v-720h720v720H120Zm60-500h600v-160H180v160Zm220 220h160v-160H400v160Zm0 220h160v-160H400v160ZM180-400h160v-160H180v160Zm440 0h160v-160H620v160ZM180-180h160v-160H180v160Zm440 0h160v-160H620v160Z\"/>\n",
              "  </svg>\n",
              "    </button>\n",
              "\n",
              "  <style>\n",
              "    .colab-df-container {\n",
              "      display:flex;\n",
              "      gap: 12px;\n",
              "    }\n",
              "\n",
              "    .colab-df-convert {\n",
              "      background-color: #E8F0FE;\n",
              "      border: none;\n",
              "      border-radius: 50%;\n",
              "      cursor: pointer;\n",
              "      display: none;\n",
              "      fill: #1967D2;\n",
              "      height: 32px;\n",
              "      padding: 0 0 0 0;\n",
              "      width: 32px;\n",
              "    }\n",
              "\n",
              "    .colab-df-convert:hover {\n",
              "      background-color: #E2EBFA;\n",
              "      box-shadow: 0px 1px 2px rgba(60, 64, 67, 0.3), 0px 1px 3px 1px rgba(60, 64, 67, 0.15);\n",
              "      fill: #174EA6;\n",
              "    }\n",
              "\n",
              "    .colab-df-buttons div {\n",
              "      margin-bottom: 4px;\n",
              "    }\n",
              "\n",
              "    [theme=dark] .colab-df-convert {\n",
              "      background-color: #3B4455;\n",
              "      fill: #D2E3FC;\n",
              "    }\n",
              "\n",
              "    [theme=dark] .colab-df-convert:hover {\n",
              "      background-color: #434B5C;\n",
              "      box-shadow: 0px 1px 3px 1px rgba(0, 0, 0, 0.15);\n",
              "      filter: drop-shadow(0px 1px 2px rgba(0, 0, 0, 0.3));\n",
              "      fill: #FFFFFF;\n",
              "    }\n",
              "  </style>\n",
              "\n",
              "    <script>\n",
              "      const buttonEl =\n",
              "        document.querySelector('#df-659ff170-2779-4e72-9236-a34ead0c2490 button.colab-df-convert');\n",
              "      buttonEl.style.display =\n",
              "        google.colab.kernel.accessAllowed ? 'block' : 'none';\n",
              "\n",
              "      async function convertToInteractive(key) {\n",
              "        const element = document.querySelector('#df-659ff170-2779-4e72-9236-a34ead0c2490');\n",
              "        const dataTable =\n",
              "          await google.colab.kernel.invokeFunction('convertToInteractive',\n",
              "                                                    [key], {});\n",
              "        if (!dataTable) return;\n",
              "\n",
              "        const docLinkHtml = 'Like what you see? Visit the ' +\n",
              "          '<a target=\"_blank\" href=https://colab.research.google.com/notebooks/data_table.ipynb>data table notebook</a>'\n",
              "          + ' to learn more about interactive tables.';\n",
              "        element.innerHTML = '';\n",
              "        dataTable['output_type'] = 'display_data';\n",
              "        await google.colab.output.renderOutput(dataTable, element);\n",
              "        const docLink = document.createElement('div');\n",
              "        docLink.innerHTML = docLinkHtml;\n",
              "        element.appendChild(docLink);\n",
              "      }\n",
              "    </script>\n",
              "  </div>\n",
              "\n",
              "\n",
              "    <div id=\"df-a036508d-1666-4988-9730-d76757802106\">\n",
              "      <button class=\"colab-df-quickchart\" onclick=\"quickchart('df-a036508d-1666-4988-9730-d76757802106')\"\n",
              "                title=\"Suggest charts\"\n",
              "                style=\"display:none;\">\n",
              "\n",
              "<svg xmlns=\"http://www.w3.org/2000/svg\" height=\"24px\"viewBox=\"0 0 24 24\"\n",
              "     width=\"24px\">\n",
              "    <g>\n",
              "        <path d=\"M19 3H5c-1.1 0-2 .9-2 2v14c0 1.1.9 2 2 2h14c1.1 0 2-.9 2-2V5c0-1.1-.9-2-2-2zM9 17H7v-7h2v7zm4 0h-2V7h2v10zm4 0h-2v-4h2v4z\"/>\n",
              "    </g>\n",
              "</svg>\n",
              "      </button>\n",
              "\n",
              "<style>\n",
              "  .colab-df-quickchart {\n",
              "      --bg-color: #E8F0FE;\n",
              "      --fill-color: #1967D2;\n",
              "      --hover-bg-color: #E2EBFA;\n",
              "      --hover-fill-color: #174EA6;\n",
              "      --disabled-fill-color: #AAA;\n",
              "      --disabled-bg-color: #DDD;\n",
              "  }\n",
              "\n",
              "  [theme=dark] .colab-df-quickchart {\n",
              "      --bg-color: #3B4455;\n",
              "      --fill-color: #D2E3FC;\n",
              "      --hover-bg-color: #434B5C;\n",
              "      --hover-fill-color: #FFFFFF;\n",
              "      --disabled-bg-color: #3B4455;\n",
              "      --disabled-fill-color: #666;\n",
              "  }\n",
              "\n",
              "  .colab-df-quickchart {\n",
              "    background-color: var(--bg-color);\n",
              "    border: none;\n",
              "    border-radius: 50%;\n",
              "    cursor: pointer;\n",
              "    display: none;\n",
              "    fill: var(--fill-color);\n",
              "    height: 32px;\n",
              "    padding: 0;\n",
              "    width: 32px;\n",
              "  }\n",
              "\n",
              "  .colab-df-quickchart:hover {\n",
              "    background-color: var(--hover-bg-color);\n",
              "    box-shadow: 0 1px 2px rgba(60, 64, 67, 0.3), 0 1px 3px 1px rgba(60, 64, 67, 0.15);\n",
              "    fill: var(--button-hover-fill-color);\n",
              "  }\n",
              "\n",
              "  .colab-df-quickchart-complete:disabled,\n",
              "  .colab-df-quickchart-complete:disabled:hover {\n",
              "    background-color: var(--disabled-bg-color);\n",
              "    fill: var(--disabled-fill-color);\n",
              "    box-shadow: none;\n",
              "  }\n",
              "\n",
              "  .colab-df-spinner {\n",
              "    border: 2px solid var(--fill-color);\n",
              "    border-color: transparent;\n",
              "    border-bottom-color: var(--fill-color);\n",
              "    animation:\n",
              "      spin 1s steps(1) infinite;\n",
              "  }\n",
              "\n",
              "  @keyframes spin {\n",
              "    0% {\n",
              "      border-color: transparent;\n",
              "      border-bottom-color: var(--fill-color);\n",
              "      border-left-color: var(--fill-color);\n",
              "    }\n",
              "    20% {\n",
              "      border-color: transparent;\n",
              "      border-left-color: var(--fill-color);\n",
              "      border-top-color: var(--fill-color);\n",
              "    }\n",
              "    30% {\n",
              "      border-color: transparent;\n",
              "      border-left-color: var(--fill-color);\n",
              "      border-top-color: var(--fill-color);\n",
              "      border-right-color: var(--fill-color);\n",
              "    }\n",
              "    40% {\n",
              "      border-color: transparent;\n",
              "      border-right-color: var(--fill-color);\n",
              "      border-top-color: var(--fill-color);\n",
              "    }\n",
              "    60% {\n",
              "      border-color: transparent;\n",
              "      border-right-color: var(--fill-color);\n",
              "    }\n",
              "    80% {\n",
              "      border-color: transparent;\n",
              "      border-right-color: var(--fill-color);\n",
              "      border-bottom-color: var(--fill-color);\n",
              "    }\n",
              "    90% {\n",
              "      border-color: transparent;\n",
              "      border-bottom-color: var(--fill-color);\n",
              "    }\n",
              "  }\n",
              "</style>\n",
              "\n",
              "      <script>\n",
              "        async function quickchart(key) {\n",
              "          const quickchartButtonEl =\n",
              "            document.querySelector('#' + key + ' button');\n",
              "          quickchartButtonEl.disabled = true;  // To prevent multiple clicks.\n",
              "          quickchartButtonEl.classList.add('colab-df-spinner');\n",
              "          try {\n",
              "            const charts = await google.colab.kernel.invokeFunction(\n",
              "                'suggestCharts', [key], {});\n",
              "          } catch (error) {\n",
              "            console.error('Error during call to suggestCharts:', error);\n",
              "          }\n",
              "          quickchartButtonEl.classList.remove('colab-df-spinner');\n",
              "          quickchartButtonEl.classList.add('colab-df-quickchart-complete');\n",
              "        }\n",
              "        (() => {\n",
              "          let quickchartButtonEl =\n",
              "            document.querySelector('#df-a036508d-1666-4988-9730-d76757802106 button');\n",
              "          quickchartButtonEl.style.display =\n",
              "            google.colab.kernel.accessAllowed ? 'block' : 'none';\n",
              "        })();\n",
              "      </script>\n",
              "    </div>\n",
              "\n",
              "    </div>\n",
              "  </div>\n"
            ],
            "application/vnd.google.colaboratory.intrinsic+json": {
              "type": "dataframe",
              "variable_name": "df_titanic_train",
              "summary": "{\n  \"name\": \"df_titanic_train\",\n  \"rows\": 891,\n  \"fields\": [\n    {\n      \"column\": \"PassengerId\",\n      \"properties\": {\n        \"dtype\": \"number\",\n        \"std\": 257,\n        \"min\": 1,\n        \"max\": 891,\n        \"num_unique_values\": 891,\n        \"samples\": [\n          710,\n          440,\n          841\n        ],\n        \"semantic_type\": \"\",\n        \"description\": \"\"\n      }\n    },\n    {\n      \"column\": \"Survived\",\n      \"properties\": {\n        \"dtype\": \"number\",\n        \"std\": 0,\n        \"min\": 0,\n        \"max\": 1,\n        \"num_unique_values\": 2,\n        \"samples\": [\n          1,\n          0\n        ],\n        \"semantic_type\": \"\",\n        \"description\": \"\"\n      }\n    },\n    {\n      \"column\": \"Pclass\",\n      \"properties\": {\n        \"dtype\": \"number\",\n        \"std\": 0,\n        \"min\": 1,\n        \"max\": 3,\n        \"num_unique_values\": 3,\n        \"samples\": [\n          3,\n          1\n        ],\n        \"semantic_type\": \"\",\n        \"description\": \"\"\n      }\n    },\n    {\n      \"column\": \"Name\",\n      \"properties\": {\n        \"dtype\": \"string\",\n        \"num_unique_values\": 891,\n        \"samples\": [\n          \"Moubarek, Master. Halim Gonios (\\\"William George\\\")\",\n          \"Kvillner, Mr. Johan Henrik Johannesson\"\n        ],\n        \"semantic_type\": \"\",\n        \"description\": \"\"\n      }\n    },\n    {\n      \"column\": \"Sex\",\n      \"properties\": {\n        \"dtype\": \"category\",\n        \"num_unique_values\": 2,\n        \"samples\": [\n          \"female\",\n          \"male\"\n        ],\n        \"semantic_type\": \"\",\n        \"description\": \"\"\n      }\n    },\n    {\n      \"column\": \"Age\",\n      \"properties\": {\n        \"dtype\": \"number\",\n        \"std\": 14.526497332334044,\n        \"min\": 0.42,\n        \"max\": 80.0,\n        \"num_unique_values\": 88,\n        \"samples\": [\n          0.75,\n          22.0\n        ],\n        \"semantic_type\": \"\",\n        \"description\": \"\"\n      }\n    },\n    {\n      \"column\": \"SibSp\",\n      \"properties\": {\n        \"dtype\": \"number\",\n        \"std\": 1,\n        \"min\": 0,\n        \"max\": 8,\n        \"num_unique_values\": 7,\n        \"samples\": [\n          1,\n          0\n        ],\n        \"semantic_type\": \"\",\n        \"description\": \"\"\n      }\n    },\n    {\n      \"column\": \"Parch\",\n      \"properties\": {\n        \"dtype\": \"number\",\n        \"std\": 0,\n        \"min\": 0,\n        \"max\": 6,\n        \"num_unique_values\": 7,\n        \"samples\": [\n          0,\n          1\n        ],\n        \"semantic_type\": \"\",\n        \"description\": \"\"\n      }\n    },\n    {\n      \"column\": \"Ticket\",\n      \"properties\": {\n        \"dtype\": \"string\",\n        \"num_unique_values\": 681,\n        \"samples\": [\n          \"11774\",\n          \"248740\"\n        ],\n        \"semantic_type\": \"\",\n        \"description\": \"\"\n      }\n    },\n    {\n      \"column\": \"Fare\",\n      \"properties\": {\n        \"dtype\": \"number\",\n        \"std\": 49.693428597180905,\n        \"min\": 0.0,\n        \"max\": 512.3292,\n        \"num_unique_values\": 248,\n        \"samples\": [\n          11.2417,\n          51.8625\n        ],\n        \"semantic_type\": \"\",\n        \"description\": \"\"\n      }\n    },\n    {\n      \"column\": \"Cabin\",\n      \"properties\": {\n        \"dtype\": \"category\",\n        \"num_unique_values\": 147,\n        \"samples\": [\n          \"D45\",\n          \"B49\"\n        ],\n        \"semantic_type\": \"\",\n        \"description\": \"\"\n      }\n    },\n    {\n      \"column\": \"Embarked\",\n      \"properties\": {\n        \"dtype\": \"category\",\n        \"num_unique_values\": 3,\n        \"samples\": [\n          \"S\",\n          \"C\"\n        ],\n        \"semantic_type\": \"\",\n        \"description\": \"\"\n      }\n    }\n  ]\n}"
            }
          },
          "metadata": {},
          "execution_count": 4
        }
      ]
    },
    {
      "cell_type": "markdown",
      "source": [
        "## Exploración de la variable objetivo (Survived)\n",
        "\n",
        "Analizamos la **variable objetivo** `Survived`, que indica si un pasajero sobrevivió (1) o no (0).\n",
        "\n",
        "- **Número total de pasajeros:** 891  \n",
        "- **Número de sobrevivientes:** 342  \n",
        "- **Probabilidad de supervivencia:** 38.38%  \n",
        "\n",
        "Este análisis inicial nos muestra un **desbalance de clases**: la mayoría de los pasajeros no sobrevivieron."
      ],
      "metadata": {
        "id": "CCHlHG5sQDBP"
      }
    },
    {
      "cell_type": "code",
      "source": [
        "total_passengers = len(df_titanic_train)\n",
        "survivors = df_titanic_train['Survived'].sum()\n",
        "survival_rate = survivors / total_passengers * 100\n",
        "\n",
        "print(f\"Total de pasajeros: {total_passengers}\")\n",
        "print(f\"Sobrevivientes: {survivors}\")\n",
        "print(f\"Probabilidad de supervivencia: {survival_rate:.2f}%\")\n",
        "\n",
        "plt.figure(figsize=(6,5))\n",
        "ax = sns.countplot(x=\"Survived\", data=df_titanic_train, palette=\"flare\")\n",
        "ax.set_xticklabels([\"No sobrevivió\", \"Sobrevivió\"])\n",
        "\n",
        "#Etiquetas\n",
        "plt.title(\"Distribución de la supervivencia en el Titanic\", fontsize=14, pad=12)\n",
        "plt.xlabel(\"Supervivencia\")\n",
        "plt.ylabel(\"Número de pasajeros\")\n",
        "counts = df_titanic_train['Survived'].value_counts().sort_index()\n",
        "for i, val in enumerate(counts):\n",
        "    percentage = (val / total_passengers) * 100\n",
        "    plt.text(i, val, f\"{val} ({percentage:.1f}%)\",\n",
        "             ha='center', va='bottom', fontsize=11, fontweight='bold')\n",
        "plt.show()"
      ],
      "metadata": {
        "colab": {
          "base_uri": "https://localhost:8080/",
          "height": 696
        },
        "id": "8ekK35BgQD3T",
        "outputId": "6a30c180-0797-4e1f-82b3-af9b4daec78b"
      },
      "execution_count": null,
      "outputs": [
        {
          "output_type": "stream",
          "name": "stdout",
          "text": [
            "Total de pasajeros: 891\n",
            "Sobrevivientes: 342\n",
            "Probabilidad de supervivencia: 38.38%\n"
          ]
        },
        {
          "output_type": "stream",
          "name": "stderr",
          "text": [
            "/tmp/ipython-input-3212117394.py:10: FutureWarning: \n",
            "\n",
            "Passing `palette` without assigning `hue` is deprecated and will be removed in v0.14.0. Assign the `x` variable to `hue` and set `legend=False` for the same effect.\n",
            "\n",
            "  ax = sns.countplot(x=\"Survived\", data=df_titanic_train, palette=\"flare\")\n",
            "/tmp/ipython-input-3212117394.py:11: UserWarning: set_ticklabels() should only be used with a fixed number of ticks, i.e. after set_ticks() or using a FixedLocator.\n",
            "  ax.set_xticklabels([\"No sobrevivió\", \"Sobrevivió\"])\n"
          ]
        },
        {
          "output_type": "display_data",
          "data": {
            "text/plain": [
              "<Figure size 600x500 with 1 Axes>"
            ],
            "image/png": "[encoded data removed]"
          },
          "metadata": {}
        }
      ]
    },
    {
      "cell_type": "code",
      "source": [
        "ct_counts = pd.crosstab(df_titanic_train['Sex'], df_titanic_train['Survived'])\n",
        "ct_perc   = ct_counts.div(ct_counts.sum(axis=1), axis=0) * 100\n",
        "\n",
        "df_plot = (\n",
        "    ct_perc.reset_index()\n",
        "           .melt(id_vars='Sex', var_name='Survived', value_name='Percent')\n",
        "    .merge(\n",
        "        ct_counts.reset_index().melt(id_vars='Sex', var_name='Survived', value_name='Count'),\n",
        "        on=['Sex','Survived']\n",
        "    )\n",
        ")\n",
        "\n",
        "plt.figure(figsize=(8,6))\n",
        "ax = sns.barplot(data=df_plot, x='Sex', y='Percent', hue='Survived', palette='flare')\n",
        "\n",
        "# Etiquetas\n",
        "for p, (_, row) in zip(ax.patches, df_plot.iterrows()):\n",
        "    ax.text(p.get_x() + p.get_width()/2,\n",
        "            p.get_height() + 1,\n",
        "            f\"{int(row['Count'])}\\n({row['Percent']:.1f}%)\",\n",
        "            ha='center', va='bottom', fontsize=10, fontweight='bold')\n",
        "\n",
        "ax.set_title(\"Supervivencia por sexo\", pad=12, fontsize=14)\n",
        "ax.set_xlabel(\"Sexo\")\n",
        "ax.set_ylabel(\"Porcentaje\")\n",
        "ax.legend(title=\"Survived (0=No, 1=Sí)\")\n",
        "plt.ylim(0, 100)\n",
        "plt.show()"
      ],
      "metadata": {
        "colab": {
          "base_uri": "https://localhost:8080/",
          "height": 573
        },
        "id": "rY8rT70iQRO0",
        "outputId": "e6be29de-6507-4234-da01-10e15c2806a2"
      },
      "execution_count": null,
      "outputs": [
        {
          "output_type": "display_data",
          "data": {
            "text/plain": [
              "<Figure size 800x600 with 1 Axes>"
            ],
            "image/png": "[encoded data removed]"
          },
          "metadata": {}
        }
      ]
    },
    {
      "cell_type": "markdown",
      "source": [
        "### Supervivencia segmentada por clase (Pclass)"
      ],
      "metadata": {
        "id": "MibcRJU-QfhG"
      }
    },
    {
      "cell_type": "code",
      "source": [
        "ct_counts = pd.crosstab(df_titanic_train['Pclass'], df_titanic_train['Survived'])\n",
        "ct_perc   = ct_counts.div(ct_counts.sum(axis=1), axis=0) * 100\n",
        "\n",
        "df_plot = (\n",
        "    ct_perc.reset_index()\n",
        "           .melt(id_vars='Pclass', var_name='Survived', value_name='Percent')\n",
        "    .merge(\n",
        "        ct_counts.reset_index().melt(id_vars='Pclass', var_name='Survived', value_name='Count'),\n",
        "        on=['Pclass','Survived']\n",
        "    )\n",
        ")\n",
        "\n",
        "plt.figure(figsize=(8,6))\n",
        "ax = sns.barplot(data=df_plot, x='Pclass', y='Percent', hue='Survived', palette='flare')\n",
        "\n",
        "# Etiquetas\n",
        "for p, (_, row) in zip(ax.patches, df_plot.iterrows()):\n",
        "    ax.text(p.get_x() + p.get_width()/2,\n",
        "            p.get_height() + 1,\n",
        "            f\"{int(row['Count'])}\\n({row['Percent']:.1f}%)\",\n",
        "            ha='center', va='bottom', fontsize=10, fontweight='bold')\n",
        "\n",
        "ax.set_title(\"Supervivencia por clase\", pad=12, fontsize=14)\n",
        "ax.set_xlabel(\"Clase del pasajero (1 = Primera, 2 = Segunda 3 = Tercera)\")\n",
        "ax.set_ylabel(\"Porcentaje\")\n",
        "ax.legend(title=\"Survived (0=No, 1=Sí)\")\n",
        "plt.ylim(0, 100)\n",
        "plt.show()"
      ],
      "metadata": {
        "colab": {
          "base_uri": "https://localhost:8080/",
          "height": 573
        },
        "id": "3ffNXOKvQhOm",
        "outputId": "a0386d43-3132-474d-aeec-767dae054e54"
      },
      "execution_count": null,
      "outputs": [
        {
          "output_type": "display_data",
          "data": {
            "text/plain": [
              "<Figure size 800x600 with 1 Axes>"
            ],
            "image/png": "[encoded data removed]"
          },
          "metadata": {}
        }
      ]
    },
    {
      "cell_type": "markdown",
      "source": [
        "### Supervivencia segmentada por edad (Age)\n",
        "\n",
        "El histograma muestra cómo se distribuyen las edades de los pasajeros sobrevivientes y no sobrevivientes:\n",
        "\n",
        "- La mayoría de los pasajeros se concentraban entre los **20 y 40 años**, rango donde también hubo más muertes.  \n",
        "- Los **niños pequeños (0–12 años)** tuvieron una mayor proporción de supervivencia en comparación con adultos y personas mayores, lo que refleja la regla de *\"mujeres y niños primero\"*.  \n",
        "- Los **adultos jóvenes (20–40 años)** presentan la mayor cantidad de fallecidos, ya que eran el grupo más numeroso a bordo.  \n",
        "- Los **mayores de 50 años** muestran tasas de supervivencia mucho más bajas, probablemente por menor prioridad de rescate y menor capacidad física para evacuar.  \n",
        "\n",
        "En conclusión, la edad influyó en la probabilidad de supervivencia, destacando que los **niños tuvieron ventaja**, mientras que los adultos y ancianos se vieron más afectados por la tragedia."
      ],
      "metadata": {
        "id": "1zkoaMuZQwuH"
      }
    },
    {
      "cell_type": "code",
      "source": [
        "plt.figure(figsize=(10,6))\n",
        "sns.histplot(data=df_titanic_train, x=\"Age\", hue=\"Survived\", multiple=\"stack\", bins=30, palette=\"flare\")\n",
        "plt.title(\"Distribución de la edad según supervivencia\", fontsize=14, pad=12)\n",
        "plt.xlabel(\"Edad\")\n",
        "plt.ylabel(\"Número de pasajeros\")\n",
        "plt.legend(title=\"Survived (0=No, 1=Sí)\", labels=[\"No sobrevivió\", \"Sobrevivió\"])\n",
        "plt.show()"
      ],
      "metadata": {
        "colab": {
          "base_uri": "https://localhost:8080/",
          "height": 574
        },
        "id": "z6OpGT6KQxhP",
        "outputId": "00669591-c21d-46cb-b0f3-fe34fbb6a334"
      },
      "execution_count": null,
      "outputs": [
        {
          "output_type": "display_data",
          "data": {
            "text/plain": [
              "<Figure size 1000x600 with 1 Axes>"
            ],
            "image/png": "[encoded data removed]"
          },
          "metadata": {}
        }
      ]
    },
    {
      "cell_type": "markdown",
      "source": [
        "Resumen estadístico de las variables numéricas del dataset.  \n",
        "Incluye métricas como:\n",
        "\n",
        "- **count** → número de valores no nulos.  \n",
        "- **mean** → promedio de la columna.  \n",
        "- **std** → desviación estándar (variabilidad de los datos).  \n",
        "- **min** → valor mínimo.  \n",
        "- **25%, 50%, 75%** → percentiles (cuartiles que dividen la distribución de los datos).  \n",
        "- **max** → valor máximo.  \n",
        "\n",
        "Esto permite obtener una **visión rápida de la distribución y dispersión de los datos numéricos** en el dataset Titanic."
      ],
      "metadata": {
        "id": "NJr-w5Z6RvZf"
      }
    },
    {
      "cell_type": "code",
      "source": [
        "df_titanic_train.describe()"
      ],
      "metadata": {
        "colab": {
          "base_uri": "https://localhost:8080/",
          "height": 300
        },
        "id": "ztpHqeVnRwYq",
        "outputId": "e8b416d8-867d-4e05-d458-40556047d626"
      },
      "execution_count": null,
      "outputs": [
        {
          "output_type": "execute_result",
          "data": {
            "text/plain": [
              "       PassengerId    Survived      Pclass         Age       SibSp  \\\n",
              "count   891.000000  891.000000  891.000000  714.000000  891.000000   \n",
              "mean    446.000000    0.383838    2.308642   29.699118    0.523008   \n",
              "std     257.353842    0.486592    0.836071   14.526497    1.102743   \n",
              "min       1.000000    0.000000    1.000000    0.420000    0.000000   \n",
              "25%     223.500000    0.000000    2.000000   20.125000    0.000000   \n",
              "50%     446.000000    0.000000    3.000000   28.000000    0.000000   \n",
              "75%     668.500000    1.000000    3.000000   38.000000    1.000000   \n",
              "max     891.000000    1.000000    3.000000   80.000000    8.000000   \n",
              "\n",
              "            Parch        Fare  \n",
              "count  891.000000  891.000000  \n",
              "mean     0.381594   32.204208  \n",
              "std      0.806057   49.693429  \n",
              "min      0.000000    0.000000  \n",
              "25%      0.000000    7.910400  \n",
              "50%      0.000000   14.454200  \n",
              "75%      0.000000   31.000000  \n",
              "max      6.000000  512.329200  "
            ],
            "text/html": [
              "\n",
              "  <div id=\"df-9ed6106c-3c89-41f9-9a19-f05c0baf0eba\" class=\"colab-df-container\">\n",
              "    <div>\n",
              "<style scoped>\n",
              "    .dataframe tbody tr th:only-of-type {\n",
              "        vertical-align: middle;\n",
              "    }\n",
              "\n",
              "    .dataframe tbody tr th {\n",
              "        vertical-align: top;\n",
              "    }\n",
              "\n",
              "    .dataframe thead th {\n",
              "        text-align: right;\n",
              "    }\n",
              "</style>\n",
              "<table border=\"1\" class=\"dataframe\">\n",
              "  <thead>\n",
              "    <tr style=\"text-align: right;\">\n",
              "      <th></th>\n",
              "      <th>PassengerId</th>\n",
              "      <th>Survived</th>\n",
              "      <th>Pclass</th>\n",
              "      <th>Age</th>\n",
              "      <th>SibSp</th>\n",
              "      <th>Parch</th>\n",
              "      <th>Fare</th>\n",
              "    </tr>\n",
              "  </thead>\n",
              "  <tbody>\n",
              "    <tr>\n",
              "      <th>count</th>\n",
              "      <td>891.000000</td>\n",
              "      <td>891.000000</td>\n",
              "      <td>891.000000</td>\n",
              "      <td>714.000000</td>\n",
              "      <td>891.000000</td>\n",
              "      <td>891.000000</td>\n",
              "      <td>891.000000</td>\n",
              "    </tr>\n",
              "    <tr>\n",
              "      <th>mean</th>\n",
              "      <td>446.000000</td>\n",
              "      <td>0.383838</td>\n",
              "      <td>2.308642</td>\n",
              "      <td>29.699118</td>\n",
              "      <td>0.523008</td>\n",
              "      <td>0.381594</td>\n",
              "      <td>32.204208</td>\n",
              "    </tr>\n",
              "    <tr>\n",
              "      <th>std</th>\n",
              "      <td>257.353842</td>\n",
              "      <td>0.486592</td>\n",
              "      <td>0.836071</td>\n",
              "      <td>14.526497</td>\n",
              "      <td>1.102743</td>\n",
              "      <td>0.806057</td>\n",
              "      <td>49.693429</td>\n",
              "    </tr>\n",
              "    <tr>\n",
              "      <th>min</th>\n",
              "      <td>1.000000</td>\n",
              "      <td>0.000000</td>\n",
              "      <td>1.000000</td>\n",
              "      <td>0.420000</td>\n",
              "      <td>0.000000</td>\n",
              "      <td>0.000000</td>\n",
              "      <td>0.000000</td>\n",
              "    </tr>\n",
              "    <tr>\n",
              "      <th>25%</th>\n",
              "      <td>223.500000</td>\n",
              "      <td>0.000000</td>\n",
              "      <td>2.000000</td>\n",
              "      <td>20.125000</td>\n",
              "      <td>0.000000</td>\n",
              "      <td>0.000000</td>\n",
              "      <td>7.910400</td>\n",
              "    </tr>\n",
              "    <tr>\n",
              "      <th>50%</th>\n",
              "      <td>446.000000</td>\n",
              "      <td>0.000000</td>\n",
              "      <td>3.000000</td>\n",
              "      <td>28.000000</td>\n",
              "      <td>0.000000</td>\n",
              "      <td>0.000000</td>\n",
              "      <td>14.454200</td>\n",
              "    </tr>\n",
              "    <tr>\n",
              "      <th>75%</th>\n",
              "      <td>668.500000</td>\n",
              "      <td>1.000000</td>\n",
              "      <td>3.000000</td>\n",
              "      <td>38.000000</td>\n",
              "      <td>1.000000</td>\n",
              "      <td>0.000000</td>\n",
              "      <td>31.000000</td>\n",
              "    </tr>\n",
              "    <tr>\n",
              "      <th>max</th>\n",
              "      <td>891.000000</td>\n",
              "      <td>1.000000</td>\n",
              "      <td>3.000000</td>\n",
              "      <td>80.000000</td>\n",
              "      <td>8.000000</td>\n",
              "      <td>6.000000</td>\n",
              "      <td>512.329200</td>\n",
              "    </tr>\n",
              "  </tbody>\n",
              "</table>\n",
              "</div>\n",
              "    <div class=\"colab-df-buttons\">\n",
              "\n",
              "  <div class=\"colab-df-container\">\n",
              "    <button class=\"colab-df-convert\" onclick=\"convertToInteractive('df-9ed6106c-3c89-41f9-9a19-f05c0baf0eba')\"\n",
              "            title=\"Convert this dataframe to an interactive table.\"\n",
              "            style=\"display:none;\">\n",
              "\n",
              "  <svg xmlns=\"http://www.w3.org/2000/svg\" height=\"24px\" viewBox=\"0 -960 960 960\">\n",
              "    <path d=\"M120-120v-720h720v720H120Zm60-500h600v-160H180v160Zm220 220h160v-160H400v160Zm0 220h160v-160H400v160ZM180-400h160v-160H180v160Zm440 0h160v-160H620v160ZM180-180h160v-160H180v160Zm440 0h160v-160H620v160Z\"/>\n",
              "  </svg>\n",
              "    </button>\n",
              "\n",
              "  <style>\n",
              "    .colab-df-container {\n",
              "      display:flex;\n",
              "      gap: 12px;\n",
              "    }\n",
              "\n",
              "    .colab-df-convert {\n",
              "      background-color: #E8F0FE;\n",
              "      border: none;\n",
              "      border-radius: 50%;\n",
              "      cursor: pointer;\n",
              "      display: none;\n",
              "      fill: #1967D2;\n",
              "      height: 32px;\n",
              "      padding: 0 0 0 0;\n",
              "      width: 32px;\n",
              "    }\n",
              "\n",
              "    .colab-df-convert:hover {\n",
              "      background-color: #E2EBFA;\n",
              "      box-shadow: 0px 1px 2px rgba(60, 64, 67, 0.3), 0px 1px 3px 1px rgba(60, 64, 67, 0.15);\n",
              "      fill: #174EA6;\n",
              "    }\n",
              "\n",
              "    .colab-df-buttons div {\n",
              "      margin-bottom: 4px;\n",
              "    }\n",
              "\n",
              "    [theme=dark] .colab-df-convert {\n",
              "      background-color: #3B4455;\n",
              "      fill: #D2E3FC;\n",
              "    }\n",
              "\n",
              "    [theme=dark] .colab-df-convert:hover {\n",
              "      background-color: #434B5C;\n",
              "      box-shadow: 0px 1px 3px 1px rgba(0, 0, 0, 0.15);\n",
              "      filter: drop-shadow(0px 1px 2px rgba(0, 0, 0, 0.3));\n",
              "      fill: #FFFFFF;\n",
              "    }\n",
              "  </style>\n",
              "\n",
              "    <script>\n",
              "      const buttonEl =\n",
              "        document.querySelector('#df-9ed6106c-3c89-41f9-9a19-f05c0baf0eba button.colab-df-convert');\n",
              "      buttonEl.style.display =\n",
              "        google.colab.kernel.accessAllowed ? 'block' : 'none';\n",
              "\n",
              "      async function convertToInteractive(key) {\n",
              "        const element = document.querySelector('#df-9ed6106c-3c89-41f9-9a19-f05c0baf0eba');\n",
              "        const dataTable =\n",
              "          await google.colab.kernel.invokeFunction('convertToInteractive',\n",
              "                                                    [key], {});\n",
              "        if (!dataTable) return;\n",
              "\n",
              "        const docLinkHtml = 'Like what you see? Visit the ' +\n",
              "          '<a target=\"_blank\" href=https://colab.research.google.com/notebooks/data_table.ipynb>data table notebook</a>'\n",
              "          + ' to learn more about interactive tables.';\n",
              "        element.innerHTML = '';\n",
              "        dataTable['output_type'] = 'display_data';\n",
              "        await google.colab.output.renderOutput(dataTable, element);\n",
              "        const docLink = document.createElement('div');\n",
              "        docLink.innerHTML = docLinkHtml;\n",
              "        element.appendChild(docLink);\n",
              "      }\n",
              "    </script>\n",
              "  </div>\n",
              "\n",
              "\n",
              "    <div id=\"df-527978a4-c8a5-4765-bf2f-631648088683\">\n",
              "      <button class=\"colab-df-quickchart\" onclick=\"quickchart('df-527978a4-c8a5-4765-bf2f-631648088683')\"\n",
              "                title=\"Suggest charts\"\n",
              "                style=\"display:none;\">\n",
              "\n",
              "<svg xmlns=\"http://www.w3.org/2000/svg\" height=\"24px\"viewBox=\"0 0 24 24\"\n",
              "     width=\"24px\">\n",
              "    <g>\n",
              "        <path d=\"M19 3H5c-1.1 0-2 .9-2 2v14c0 1.1.9 2 2 2h14c1.1 0 2-.9 2-2V5c0-1.1-.9-2-2-2zM9 17H7v-7h2v7zm4 0h-2V7h2v10zm4 0h-2v-4h2v4z\"/>\n",
              "    </g>\n",
              "</svg>\n",
              "      </button>\n",
              "\n",
              "<style>\n",
              "  .colab-df-quickchart {\n",
              "      --bg-color: #E8F0FE;\n",
              "      --fill-color: #1967D2;\n",
              "      --hover-bg-color: #E2EBFA;\n",
              "      --hover-fill-color: #174EA6;\n",
              "      --disabled-fill-color: #AAA;\n",
              "      --disabled-bg-color: #DDD;\n",
              "  }\n",
              "\n",
              "  [theme=dark] .colab-df-quickchart {\n",
              "      --bg-color: #3B4455;\n",
              "      --fill-color: #D2E3FC;\n",
              "      --hover-bg-color: #434B5C;\n",
              "      --hover-fill-color: #FFFFFF;\n",
              "      --disabled-bg-color: #3B4455;\n",
              "      --disabled-fill-color: #666;\n",
              "  }\n",
              "\n",
              "  .colab-df-quickchart {\n",
              "    background-color: var(--bg-color);\n",
              "    border: none;\n",
              "    border-radius: 50%;\n",
              "    cursor: pointer;\n",
              "    display: none;\n",
              "    fill: var(--fill-color);\n",
              "    height: 32px;\n",
              "    padding: 0;\n",
              "    width: 32px;\n",
              "  }\n",
              "\n",
              "  .colab-df-quickchart:hover {\n",
              "    background-color: var(--hover-bg-color);\n",
              "    box-shadow: 0 1px 2px rgba(60, 64, 67, 0.3), 0 1px 3px 1px rgba(60, 64, 67, 0.15);\n",
              "    fill: var(--button-hover-fill-color);\n",
              "  }\n",
              "\n",
              "  .colab-df-quickchart-complete:disabled,\n",
              "  .colab-df-quickchart-complete:disabled:hover {\n",
              "    background-color: var(--disabled-bg-color);\n",
              "    fill: var(--disabled-fill-color);\n",
              "    box-shadow: none;\n",
              "  }\n",
              "\n",
              "  .colab-df-spinner {\n",
              "    border: 2px solid var(--fill-color);\n",
              "    border-color: transparent;\n",
              "    border-bottom-color: var(--fill-color);\n",
              "    animation:\n",
              "      spin 1s steps(1) infinite;\n",
              "  }\n",
              "\n",
              "  @keyframes spin {\n",
              "    0% {\n",
              "      border-color: transparent;\n",
              "      border-bottom-color: var(--fill-color);\n",
              "      border-left-color: var(--fill-color);\n",
              "    }\n",
              "    20% {\n",
              "      border-color: transparent;\n",
              "      border-left-color: var(--fill-color);\n",
              "      border-top-color: var(--fill-color);\n",
              "    }\n",
              "    30% {\n",
              "      border-color: transparent;\n",
              "      border-left-color: var(--fill-color);\n",
              "      border-top-color: var(--fill-color);\n",
              "      border-right-color: var(--fill-color);\n",
              "    }\n",
              "    40% {\n",
              "      border-color: transparent;\n",
              "      border-right-color: var(--fill-color);\n",
              "      border-top-color: var(--fill-color);\n",
              "    }\n",
              "    60% {\n",
              "      border-color: transparent;\n",
              "      border-right-color: var(--fill-color);\n",
              "    }\n",
              "    80% {\n",
              "      border-color: transparent;\n",
              "      border-right-color: var(--fill-color);\n",
              "      border-bottom-color: var(--fill-color);\n",
              "    }\n",
              "    90% {\n",
              "      border-color: transparent;\n",
              "      border-bottom-color: var(--fill-color);\n",
              "    }\n",
              "  }\n",
              "</style>\n",
              "\n",
              "      <script>\n",
              "        async function quickchart(key) {\n",
              "          const quickchartButtonEl =\n",
              "            document.querySelector('#' + key + ' button');\n",
              "          quickchartButtonEl.disabled = true;  // To prevent multiple clicks.\n",
              "          quickchartButtonEl.classList.add('colab-df-spinner');\n",
              "          try {\n",
              "            const charts = await google.colab.kernel.invokeFunction(\n",
              "                'suggestCharts', [key], {});\n",
              "          } catch (error) {\n",
              "            console.error('Error during call to suggestCharts:', error);\n",
              "          }\n",
              "          quickchartButtonEl.classList.remove('colab-df-spinner');\n",
              "          quickchartButtonEl.classList.add('colab-df-quickchart-complete');\n",
              "        }\n",
              "        (() => {\n",
              "          let quickchartButtonEl =\n",
              "            document.querySelector('#df-527978a4-c8a5-4765-bf2f-631648088683 button');\n",
              "          quickchartButtonEl.style.display =\n",
              "            google.colab.kernel.accessAllowed ? 'block' : 'none';\n",
              "        })();\n",
              "      </script>\n",
              "    </div>\n",
              "\n",
              "    </div>\n",
              "  </div>\n"
            ],
            "application/vnd.google.colaboratory.intrinsic+json": {
              "type": "dataframe",
              "summary": "{\n  \"name\": \"df_titanic_train\",\n  \"rows\": 8,\n  \"fields\": [\n    {\n      \"column\": \"PassengerId\",\n      \"properties\": {\n        \"dtype\": \"number\",\n        \"std\": 320.8159711429856,\n        \"min\": 1.0,\n        \"max\": 891.0,\n        \"num_unique_values\": 6,\n        \"samples\": [\n          891.0,\n          446.0,\n          668.5\n        ],\n        \"semantic_type\": \"\",\n        \"description\": \"\"\n      }\n    },\n    {\n      \"column\": \"Survived\",\n      \"properties\": {\n        \"dtype\": \"number\",\n        \"std\": 314.8713661874558,\n        \"min\": 0.0,\n        \"max\": 891.0,\n        \"num_unique_values\": 5,\n        \"samples\": [\n          0.3838383838383838,\n          1.0,\n          0.4865924542648585\n        ],\n        \"semantic_type\": \"\",\n        \"description\": \"\"\n      }\n    },\n    {\n      \"column\": \"Pclass\",\n      \"properties\": {\n        \"dtype\": \"number\",\n        \"std\": 314.2523437079693,\n        \"min\": 0.8360712409770513,\n        \"max\": 891.0,\n        \"num_unique_values\": 6,\n        \"samples\": [\n          891.0,\n          2.308641975308642,\n          3.0\n        ],\n        \"semantic_type\": \"\",\n        \"description\": \"\"\n      }\n    },\n    {\n      \"column\": \"Age\",\n      \"properties\": {\n        \"dtype\": \"number\",\n        \"std\": 242.9056731818781,\n        \"min\": 0.42,\n        \"max\": 714.0,\n        \"num_unique_values\": 8,\n        \"samples\": [\n          29.69911764705882,\n          28.0,\n          714.0\n        ],\n        \"semantic_type\": \"\",\n        \"description\": \"\"\n      }\n    },\n    {\n      \"column\": \"SibSp\",\n      \"properties\": {\n        \"dtype\": \"number\",\n        \"std\": 314.4908277465442,\n        \"min\": 0.0,\n        \"max\": 891.0,\n        \"num_unique_values\": 6,\n        \"samples\": [\n          891.0,\n          0.5230078563411896,\n          8.0\n        ],\n        \"semantic_type\": \"\",\n        \"description\": \"\"\n      }\n    },\n    {\n      \"column\": \"Parch\",\n      \"properties\": {\n        \"dtype\": \"number\",\n        \"std\": 314.65971717879,\n        \"min\": 0.0,\n        \"max\": 891.0,\n        \"num_unique_values\": 5,\n        \"samples\": [\n          0.38159371492704824,\n          6.0,\n          0.8060572211299559\n        ],\n        \"semantic_type\": \"\",\n        \"description\": \"\"\n      }\n    },\n    {\n      \"column\": \"Fare\",\n      \"properties\": {\n        \"dtype\": \"number\",\n        \"std\": 330.6256632228577,\n        \"min\": 0.0,\n        \"max\": 891.0,\n        \"num_unique_values\": 8,\n        \"samples\": [\n          32.204207968574636,\n          14.4542,\n          891.0\n        ],\n        \"semantic_type\": \"\",\n        \"description\": \"\"\n      }\n    }\n  ]\n}"
            }
          },
          "metadata": {},
          "execution_count": 9
        }
      ]
    },
    {
      "cell_type": "markdown",
      "source": [
        "## Análisis de valores nulos\n",
        "\n",
        "Antes de transformar los datos, es importante identificar **qué columnas contienen valores faltantes**.  \n",
        "El siguiente mapa de calor muestra con color azul las celdas que tienen valores nulos y en negro las que contienen datos.  \n",
        "\n",
        "Esto nos permitirá visualizar rápidamente **qué variables necesitan limpieza o imputación** en la fase de Transformación."
      ],
      "metadata": {
        "id": "vFO01ip7PJHw"
      }
    },
    {
      "cell_type": "code",
      "source": [
        "plt.figure(figsize=(10,6))\n",
        "sns.heatmap(df_titanic_train.isnull(),\n",
        "            cmap=sns.color_palette([\"black\",\"blue\"]),\n",
        "            cbar=False)\n",
        "plt.title(\"Mapa de calor de valores nulos en el dataset Titanic\", fontsize=14, pad=15)\n",
        "plt.xlabel(\"Columnas\")\n",
        "plt.ylabel(\"Registros\")\n",
        "plt.show()"
      ],
      "metadata": {
        "colab": {
          "base_uri": "https://localhost:8080/",
          "height": 647
        },
        "id": "w1hAOFrUPNi7",
        "outputId": "f63011a3-369c-4a33-f406-0d5f46b39837"
      },
      "execution_count": null,
      "outputs": [
        {
          "output_type": "display_data",
          "data": {
            "text/plain": [
              "<Figure size 1000x600 with 1 Axes>"
            ],
            "image/png": "[encoded data removed]"
          },
          "metadata": {}
        }
      ]
    },
    {
      "cell_type": "code",
      "source": [
        "missing_values = df_titanic_train.isnull().sum()\n",
        "plt.figure(figsize=(10,6))\n",
        "sns.barplot(x=missing_values.index, y=missing_values.values, palette=\"flare\")\n",
        "\n",
        "for i, val in enumerate(missing_values.values):\n",
        "    plt.text(i, val + 5, str(val), ha='center', va='bottom', fontsize=10, fontweight='bold')\n",
        "\n",
        "plt.title(\"Número de valores nulos por columna\", fontsize=14, pad=15)\n",
        "plt.xlabel(\"Columnas\")\n",
        "plt.ylabel(\"Cantidad de valores nulos\")\n",
        "plt.xticks(rotation=45)\n",
        "plt.show()"
      ],
      "metadata": {
        "colab": {
          "base_uri": "https://localhost:8080/",
          "height": 743
        },
        "id": "RTT8jwIQPmSZ",
        "outputId": "2a853d69-4748-45ad-b983-c8612c25a7a4"
      },
      "execution_count": null,
      "outputs": [
        {
          "output_type": "stream",
          "name": "stderr",
          "text": [
            "/tmp/ipython-input-54597546.py:3: FutureWarning: \n",
            "\n",
            "Passing `palette` without assigning `hue` is deprecated and will be removed in v0.14.0. Assign the `x` variable to `hue` and set `legend=False` for the same effect.\n",
            "\n",
            "  sns.barplot(x=missing_values.index, y=missing_values.values, palette=\"flare\")\n"
          ]
        },
        {
          "output_type": "display_data",
          "data": {
            "text/plain": [
              "<Figure size 1000x600 with 1 Axes>"
            ],
            "image/png": "[encoded data removed]"
          },
          "metadata": {}
        }
      ]
    },
    {
      "cell_type": "code",
      "source": [
        "missing_percent = (df_titanic_train.isnull().sum() / len(df_titanic_train)) * 100\n",
        "missing_percent = missing_percent[missing_percent > 0].sort_values(ascending=False)\n",
        "plt.figure(figsize=(10,6))\n",
        "sns.barplot(x=missing_percent.index, y=missing_percent.values, palette=\"flare\")\n",
        "# Etiquetas\n",
        "for i, val in enumerate(missing_percent.values):\n",
        "    plt.text(i, val + 1, f\"{val:.1f}%\", ha='center', va='bottom', fontsize=10, fontweight='bold')\n",
        "\n",
        "plt.title(\"Porcentaje de valores nulos por columna\", fontsize=14, pad=15)\n",
        "plt.xlabel(\"Columnas\")\n",
        "plt.ylabel(\"Porcentaje de valores nulos\")\n",
        "plt.xticks(rotation=45)\n",
        "plt.show()"
      ],
      "metadata": {
        "colab": {
          "base_uri": "https://localhost:8080/",
          "height": 732
        },
        "id": "fMK9XrX_Pu7d",
        "outputId": "8ee8c1fa-2b85-4a83-d135-0941a3966365"
      },
      "execution_count": null,
      "outputs": [
        {
          "output_type": "stream",
          "name": "stderr",
          "text": [
            "/tmp/ipython-input-1770366462.py:4: FutureWarning: \n",
            "\n",
            "Passing `palette` without assigning `hue` is deprecated and will be removed in v0.14.0. Assign the `x` variable to `hue` and set `legend=False` for the same effect.\n",
            "\n",
            "  sns.barplot(x=missing_percent.index, y=missing_percent.values, palette=\"flare\")\n"
          ]
        },
        {
          "output_type": "display_data",
          "data": {
            "text/plain": [
              "<Figure size 1000x600 with 1 Axes>"
            ],
            "image/png": "[encoded data removed]"
          },
          "metadata": {}
        }
      ]
    },
    {
      "cell_type": "code",
      "source": [
        "# Vamos a visualizar las primeras estadisticas de cada columna\n",
        "df_titanic_train.describe(include='all')"
      ],
      "metadata": {
        "colab": {
          "base_uri": "https://localhost:8080/",
          "height": 394
        },
        "id": "gGkUe7zFWUGj",
        "outputId": "f13c59cf-04a7-46e0-9cd6-0ed98e250ec2"
      },
      "execution_count": null,
      "outputs": [
        {
          "output_type": "execute_result",
          "data": {
            "text/plain": [
              "        PassengerId    Survived      Pclass                 Name   Sex  \\\n",
              "count    891.000000  891.000000  891.000000                  891   891   \n",
              "unique          NaN         NaN         NaN                  891     2   \n",
              "top             NaN         NaN         NaN  Dooley, Mr. Patrick  male   \n",
              "freq            NaN         NaN         NaN                    1   577   \n",
              "mean     446.000000    0.383838    2.308642                  NaN   NaN   \n",
              "std      257.353842    0.486592    0.836071                  NaN   NaN   \n",
              "min        1.000000    0.000000    1.000000                  NaN   NaN   \n",
              "25%      223.500000    0.000000    2.000000                  NaN   NaN   \n",
              "50%      446.000000    0.000000    3.000000                  NaN   NaN   \n",
              "75%      668.500000    1.000000    3.000000                  NaN   NaN   \n",
              "max      891.000000    1.000000    3.000000                  NaN   NaN   \n",
              "\n",
              "               Age       SibSp       Parch  Ticket        Fare Cabin Embarked  \n",
              "count   714.000000  891.000000  891.000000     891  891.000000   204      889  \n",
              "unique         NaN         NaN         NaN     681         NaN   147        3  \n",
              "top            NaN         NaN         NaN  347082         NaN    G6        S  \n",
              "freq           NaN         NaN         NaN       7         NaN     4      644  \n",
              "mean     29.699118    0.523008    0.381594     NaN   32.204208   NaN      NaN  \n",
              "std      14.526497    1.102743    0.806057     NaN   49.693429   NaN      NaN  \n",
              "min       0.420000    0.000000    0.000000     NaN    0.000000   NaN      NaN  \n",
              "25%      20.125000    0.000000    0.000000     NaN    7.910400   NaN      NaN  \n",
              "50%      28.000000    0.000000    0.000000     NaN   14.454200   NaN      NaN  \n",
              "75%      38.000000    1.000000    0.000000     NaN   31.000000   NaN      NaN  \n",
              "max      80.000000    8.000000    6.000000     NaN  512.329200   NaN      NaN  "
            ],
            "text/html": [
              "\n",
              "  <div id=\"df-c127450f-9037-46fe-9dc1-acc0fa3c73df\" class=\"colab-df-container\">\n",
              "    <div>\n",
              "<style scoped>\n",
              "    .dataframe tbody tr th:only-of-type {\n",
              "        vertical-align: middle;\n",
              "    }\n",
              "\n",
              "    .dataframe tbody tr th {\n",
              "        vertical-align: top;\n",
              "    }\n",
              "\n",
              "    .dataframe thead th {\n",
              "        text-align: right;\n",
              "    }\n",
              "</style>\n",
              "<table border=\"1\" class=\"dataframe\">\n",
              "  <thead>\n",
              "    <tr style=\"text-align: right;\">\n",
              "      <th></th>\n",
              "      <th>PassengerId</th>\n",
              "      <th>Survived</th>\n",
              "      <th>Pclass</th>\n",
              "      <th>Name</th>\n",
              "      <th>Sex</th>\n",
              "      <th>Age</th>\n",
              "      <th>SibSp</th>\n",
              "      <th>Parch</th>\n",
              "      <th>Ticket</th>\n",
              "      <th>Fare</th>\n",
              "      <th>Cabin</th>\n",
              "      <th>Embarked</th>\n",
              "    </tr>\n",
              "  </thead>\n",
              "  <tbody>\n",
              "    <tr>\n",
              "      <th>count</th>\n",
              "      <td>891.000000</td>\n",
              "      <td>891.000000</td>\n",
              "      <td>891.000000</td>\n",
              "      <td>891</td>\n",
              "      <td>891</td>\n",
              "      <td>714.000000</td>\n",
              "      <td>891.000000</td>\n",
              "      <td>891.000000</td>\n",
              "      <td>891</td>\n",
              "      <td>891.000000</td>\n",
              "      <td>204</td>\n",
              "      <td>889</td>\n",
              "    </tr>\n",
              "    <tr>\n",
              "      <th>unique</th>\n",
              "      <td>NaN</td>\n",
              "      <td>NaN</td>\n",
              "      <td>NaN</td>\n",
              "      <td>891</td>\n",
              "      <td>2</td>\n",
              "      <td>NaN</td>\n",
              "      <td>NaN</td>\n",
              "      <td>NaN</td>\n",
              "      <td>681</td>\n",
              "      <td>NaN</td>\n",
              "      <td>147</td>\n",
              "      <td>3</td>\n",
              "    </tr>\n",
              "    <tr>\n",
              "      <th>top</th>\n",
              "      <td>NaN</td>\n",
              "      <td>NaN</td>\n",
              "      <td>NaN</td>\n",
              "      <td>Dooley, Mr. Patrick</td>\n",
              "      <td>male</td>\n",
              "      <td>NaN</td>\n",
              "      <td>NaN</td>\n",
              "      <td>NaN</td>\n",
              "      <td>347082</td>\n",
              "      <td>NaN</td>\n",
              "      <td>G6</td>\n",
              "      <td>S</td>\n",
              "    </tr>\n",
              "    <tr>\n",
              "      <th>freq</th>\n",
              "      <td>NaN</td>\n",
              "      <td>NaN</td>\n",
              "      <td>NaN</td>\n",
              "      <td>1</td>\n",
              "      <td>577</td>\n",
              "      <td>NaN</td>\n",
              "      <td>NaN</td>\n",
              "      <td>NaN</td>\n",
              "      <td>7</td>\n",
              "      <td>NaN</td>\n",
              "      <td>4</td>\n",
              "      <td>644</td>\n",
              "    </tr>\n",
              "    <tr>\n",
              "      <th>mean</th>\n",
              "      <td>446.000000</td>\n",
              "      <td>0.383838</td>\n",
              "      <td>2.308642</td>\n",
              "      <td>NaN</td>\n",
              "      <td>NaN</td>\n",
              "      <td>29.699118</td>\n",
              "      <td>0.523008</td>\n",
              "      <td>0.381594</td>\n",
              "      <td>NaN</td>\n",
              "      <td>32.204208</td>\n",
              "      <td>NaN</td>\n",
              "      <td>NaN</td>\n",
              "    </tr>\n",
              "    <tr>\n",
              "      <th>std</th>\n",
              "      <td>257.353842</td>\n",
              "      <td>0.486592</td>\n",
              "      <td>0.836071</td>\n",
              "      <td>NaN</td>\n",
              "      <td>NaN</td>\n",
              "      <td>14.526497</td>\n",
              "      <td>1.102743</td>\n",
              "      <td>0.806057</td>\n",
              "      <td>NaN</td>\n",
              "      <td>49.693429</td>\n",
              "      <td>NaN</td>\n",
              "      <td>NaN</td>\n",
              "    </tr>\n",
              "    <tr>\n",
              "      <th>min</th>\n",
              "      <td>1.000000</td>\n",
              "      <td>0.000000</td>\n",
              "      <td>1.000000</td>\n",
              "      <td>NaN</td>\n",
              "      <td>NaN</td>\n",
              "      <td>0.420000</td>\n",
              "      <td>0.000000</td>\n",
              "      <td>0.000000</td>\n",
              "      <td>NaN</td>\n",
              "      <td>0.000000</td>\n",
              "      <td>NaN</td>\n",
              "      <td>NaN</td>\n",
              "    </tr>\n",
              "    <tr>\n",
              "      <th>25%</th>\n",
              "      <td>223.500000</td>\n",
              "      <td>0.000000</td>\n",
              "      <td>2.000000</td>\n",
              "      <td>NaN</td>\n",
              "      <td>NaN</td>\n",
              "      <td>20.125000</td>\n",
              "      <td>0.000000</td>\n",
              "      <td>0.000000</td>\n",
              "      <td>NaN</td>\n",
              "      <td>7.910400</td>\n",
              "      <td>NaN</td>\n",
              "      <td>NaN</td>\n",
              "    </tr>\n",
              "    <tr>\n",
              "      <th>50%</th>\n",
              "      <td>446.000000</td>\n",
              "      <td>0.000000</td>\n",
              "      <td>3.000000</td>\n",
              "      <td>NaN</td>\n",
              "      <td>NaN</td>\n",
              "      <td>28.000000</td>\n",
              "      <td>0.000000</td>\n",
              "      <td>0.000000</td>\n",
              "      <td>NaN</td>\n",
              "      <td>14.454200</td>\n",
              "      <td>NaN</td>\n",
              "      <td>NaN</td>\n",
              "    </tr>\n",
              "    <tr>\n",
              "      <th>75%</th>\n",
              "      <td>668.500000</td>\n",
              "      <td>1.000000</td>\n",
              "      <td>3.000000</td>\n",
              "      <td>NaN</td>\n",
              "      <td>NaN</td>\n",
              "      <td>38.000000</td>\n",
              "      <td>1.000000</td>\n",
              "      <td>0.000000</td>\n",
              "      <td>NaN</td>\n",
              "      <td>31.000000</td>\n",
              "      <td>NaN</td>\n",
              "      <td>NaN</td>\n",
              "    </tr>\n",
              "    <tr>\n",
              "      <th>max</th>\n",
              "      <td>891.000000</td>\n",
              "      <td>1.000000</td>\n",
              "      <td>3.000000</td>\n",
              "      <td>NaN</td>\n",
              "      <td>NaN</td>\n",
              "      <td>80.000000</td>\n",
              "      <td>8.000000</td>\n",
              "      <td>6.000000</td>\n",
              "      <td>NaN</td>\n",
              "      <td>512.329200</td>\n",
              "      <td>NaN</td>\n",
              "      <td>NaN</td>\n",
              "    </tr>\n",
              "  </tbody>\n",
              "</table>\n",
              "</div>\n",
              "    <div class=\"colab-df-buttons\">\n",
              "\n",
              "  <div class=\"colab-df-container\">\n",
              "    <button class=\"colab-df-convert\" onclick=\"convertToInteractive('df-c127450f-9037-46fe-9dc1-acc0fa3c73df')\"\n",
              "            title=\"Convert this dataframe to an interactive table.\"\n",
              "            style=\"display:none;\">\n",
              "\n",
              "  <svg xmlns=\"http://www.w3.org/2000/svg\" height=\"24px\" viewBox=\"0 -960 960 960\">\n",
              "    <path d=\"M120-120v-720h720v720H120Zm60-500h600v-160H180v160Zm220 220h160v-160H400v160Zm0 220h160v-160H400v160ZM180-400h160v-160H180v160Zm440 0h160v-160H620v160ZM180-180h160v-160H180v160Zm440 0h160v-160H620v160Z\"/>\n",
              "  </svg>\n",
              "    </button>\n",
              "\n",
              "  <style>\n",
              "    .colab-df-container {\n",
              "      display:flex;\n",
              "      gap: 12px;\n",
              "    }\n",
              "\n",
              "    .colab-df-convert {\n",
              "      background-color: #E8F0FE;\n",
              "      border: none;\n",
              "      border-radius: 50%;\n",
              "      cursor: pointer;\n",
              "      display: none;\n",
              "      fill: #1967D2;\n",
              "      height: 32px;\n",
              "      padding: 0 0 0 0;\n",
              "      width: 32px;\n",
              "    }\n",
              "\n",
              "    .colab-df-convert:hover {\n",
              "      background-color: #E2EBFA;\n",
              "      box-shadow: 0px 1px 2px rgba(60, 64, 67, 0.3), 0px 1px 3px 1px rgba(60, 64, 67, 0.15);\n",
              "      fill: #174EA6;\n",
              "    }\n",
              "\n",
              "    .colab-df-buttons div {\n",
              "      margin-bottom: 4px;\n",
              "    }\n",
              "\n",
              "    [theme=dark] .colab-df-convert {\n",
              "      background-color: #3B4455;\n",
              "      fill: #D2E3FC;\n",
              "    }\n",
              "\n",
              "    [theme=dark] .colab-df-convert:hover {\n",
              "      background-color: #434B5C;\n",
              "      box-shadow: 0px 1px 3px 1px rgba(0, 0, 0, 0.15);\n",
              "      filter: drop-shadow(0px 1px 2px rgba(0, 0, 0, 0.3));\n",
              "      fill: #FFFFFF;\n",
              "    }\n",
              "  </style>\n",
              "\n",
              "    <script>\n",
              "      const buttonEl =\n",
              "        document.querySelector('#df-c127450f-9037-46fe-9dc1-acc0fa3c73df button.colab-df-convert');\n",
              "      buttonEl.style.display =\n",
              "        google.colab.kernel.accessAllowed ? 'block' : 'none';\n",
              "\n",
              "      async function convertToInteractive(key) {\n",
              "        const element = document.querySelector('#df-c127450f-9037-46fe-9dc1-acc0fa3c73df');\n",
              "        const dataTable =\n",
              "          await google.colab.kernel.invokeFunction('convertToInteractive',\n",
              "                                                    [key], {});\n",
              "        if (!dataTable) return;\n",
              "\n",
              "        const docLinkHtml = 'Like what you see? Visit the ' +\n",
              "          '<a target=\"_blank\" href=https://colab.research.google.com/notebooks/data_table.ipynb>data table notebook</a>'\n",
              "          + ' to learn more about interactive tables.';\n",
              "        element.innerHTML = '';\n",
              "        dataTable['output_type'] = 'display_data';\n",
              "        await google.colab.output.renderOutput(dataTable, element);\n",
              "        const docLink = document.createElement('div');\n",
              "        docLink.innerHTML = docLinkHtml;\n",
              "        element.appendChild(docLink);\n",
              "      }\n",
              "    </script>\n",
              "  </div>\n",
              "\n",
              "\n",
              "    <div id=\"df-52a37849-e86a-44ed-8631-f71f9ca6a9f5\">\n",
              "      <button class=\"colab-df-quickchart\" onclick=\"quickchart('df-52a37849-e86a-44ed-8631-f71f9ca6a9f5')\"\n",
              "                title=\"Suggest charts\"\n",
              "                style=\"display:none;\">\n",
              "\n",
              "<svg xmlns=\"http://www.w3.org/2000/svg\" height=\"24px\"viewBox=\"0 0 24 24\"\n",
              "     width=\"24px\">\n",
              "    <g>\n",
              "        <path d=\"M19 3H5c-1.1 0-2 .9-2 2v14c0 1.1.9 2 2 2h14c1.1 0 2-.9 2-2V5c0-1.1-.9-2-2-2zM9 17H7v-7h2v7zm4 0h-2V7h2v10zm4 0h-2v-4h2v4z\"/>\n",
              "    </g>\n",
              "</svg>\n",
              "      </button>\n",
              "\n",
              "<style>\n",
              "  .colab-df-quickchart {\n",
              "      --bg-color: #E8F0FE;\n",
              "      --fill-color: #1967D2;\n",
              "      --hover-bg-color: #E2EBFA;\n",
              "      --hover-fill-color: #174EA6;\n",
              "      --disabled-fill-color: #AAA;\n",
              "      --disabled-bg-color: #DDD;\n",
              "  }\n",
              "\n",
              "  [theme=dark] .colab-df-quickchart {\n",
              "      --bg-color: #3B4455;\n",
              "      --fill-color: #D2E3FC;\n",
              "      --hover-bg-color: #434B5C;\n",
              "      --hover-fill-color: #FFFFFF;\n",
              "      --disabled-bg-color: #3B4455;\n",
              "      --disabled-fill-color: #666;\n",
              "  }\n",
              "\n",
              "  .colab-df-quickchart {\n",
              "    background-color: var(--bg-color);\n",
              "    border: none;\n",
              "    border-radius: 50%;\n",
              "    cursor: pointer;\n",
              "    display: none;\n",
              "    fill: var(--fill-color);\n",
              "    height: 32px;\n",
              "    padding: 0;\n",
              "    width: 32px;\n",
              "  }\n",
              "\n",
              "  .colab-df-quickchart:hover {\n",
              "    background-color: var(--hover-bg-color);\n",
              "    box-shadow: 0 1px 2px rgba(60, 64, 67, 0.3), 0 1px 3px 1px rgba(60, 64, 67, 0.15);\n",
              "    fill: var(--button-hover-fill-color);\n",
              "  }\n",
              "\n",
              "  .colab-df-quickchart-complete:disabled,\n",
              "  .colab-df-quickchart-complete:disabled:hover {\n",
              "    background-color: var(--disabled-bg-color);\n",
              "    fill: var(--disabled-fill-color);\n",
              "    box-shadow: none;\n",
              "  }\n",
              "\n",
              "  .colab-df-spinner {\n",
              "    border: 2px solid var(--fill-color);\n",
              "    border-color: transparent;\n",
              "    border-bottom-color: var(--fill-color);\n",
              "    animation:\n",
              "      spin 1s steps(1) infinite;\n",
              "  }\n",
              "\n",
              "  @keyframes spin {\n",
              "    0% {\n",
              "      border-color: transparent;\n",
              "      border-bottom-color: var(--fill-color);\n",
              "      border-left-color: var(--fill-color);\n",
              "    }\n",
              "    20% {\n",
              "      border-color: transparent;\n",
              "      border-left-color: var(--fill-color);\n",
              "      border-top-color: var(--fill-color);\n",
              "    }\n",
              "    30% {\n",
              "      border-color: transparent;\n",
              "      border-left-color: var(--fill-color);\n",
              "      border-top-color: var(--fill-color);\n",
              "      border-right-color: var(--fill-color);\n",
              "    }\n",
              "    40% {\n",
              "      border-color: transparent;\n",
              "      border-right-color: var(--fill-color);\n",
              "      border-top-color: var(--fill-color);\n",
              "    }\n",
              "    60% {\n",
              "      border-color: transparent;\n",
              "      border-right-color: var(--fill-color);\n",
              "    }\n",
              "    80% {\n",
              "      border-color: transparent;\n",
              "      border-right-color: var(--fill-color);\n",
              "      border-bottom-color: var(--fill-color);\n",
              "    }\n",
              "    90% {\n",
              "      border-color: transparent;\n",
              "      border-bottom-color: var(--fill-color);\n",
              "    }\n",
              "  }\n",
              "</style>\n",
              "\n",
              "      <script>\n",
              "        async function quickchart(key) {\n",
              "          const quickchartButtonEl =\n",
              "            document.querySelector('#' + key + ' button');\n",
              "          quickchartButtonEl.disabled = true;  // To prevent multiple clicks.\n",
              "          quickchartButtonEl.classList.add('colab-df-spinner');\n",
              "          try {\n",
              "            const charts = await google.colab.kernel.invokeFunction(\n",
              "                'suggestCharts', [key], {});\n",
              "          } catch (error) {\n",
              "            console.error('Error during call to suggestCharts:', error);\n",
              "          }\n",
              "          quickchartButtonEl.classList.remove('colab-df-spinner');\n",
              "          quickchartButtonEl.classList.add('colab-df-quickchart-complete');\n",
              "        }\n",
              "        (() => {\n",
              "          let quickchartButtonEl =\n",
              "            document.querySelector('#df-52a37849-e86a-44ed-8631-f71f9ca6a9f5 button');\n",
              "          quickchartButtonEl.style.display =\n",
              "            google.colab.kernel.accessAllowed ? 'block' : 'none';\n",
              "        })();\n",
              "      </script>\n",
              "    </div>\n",
              "\n",
              "    </div>\n",
              "  </div>\n"
            ],
            "application/vnd.google.colaboratory.intrinsic+json": {
              "type": "dataframe",
              "summary": "{\n  \"name\": \"df_titanic_train\",\n  \"rows\": 11,\n  \"fields\": [\n    {\n      \"column\": \"PassengerId\",\n      \"properties\": {\n        \"dtype\": \"number\",\n        \"std\": 320.8159711429856,\n        \"min\": 1.0,\n        \"max\": 891.0,\n        \"num_unique_values\": 6,\n        \"samples\": [\n          891.0,\n          446.0,\n          668.5\n        ],\n        \"semantic_type\": \"\",\n        \"description\": \"\"\n      }\n    },\n    {\n      \"column\": \"Survived\",\n      \"properties\": {\n        \"dtype\": \"number\",\n        \"std\": 314.8713661874558,\n        \"min\": 0.0,\n        \"max\": 891.0,\n        \"num_unique_values\": 5,\n        \"samples\": [\n          0.3838383838383838,\n          1.0,\n          0.4865924542648585\n        ],\n        \"semantic_type\": \"\",\n        \"description\": \"\"\n      }\n    },\n    {\n      \"column\": \"Pclass\",\n      \"properties\": {\n        \"dtype\": \"number\",\n        \"std\": 314.2523437079693,\n        \"min\": 0.8360712409770513,\n        \"max\": 891.0,\n        \"num_unique_values\": 6,\n        \"samples\": [\n          891.0,\n          2.308641975308642,\n          3.0\n        ],\n        \"semantic_type\": \"\",\n        \"description\": \"\"\n      }\n    },\n    {\n      \"column\": \"Name\",\n      \"properties\": {\n        \"dtype\": \"category\",\n        \"num_unique_values\": 3,\n        \"samples\": [\n          \"891\",\n          \"Dooley, Mr. Patrick\",\n          \"1\"\n        ],\n        \"semantic_type\": \"\",\n        \"description\": \"\"\n      }\n    },\n    {\n      \"column\": \"Sex\",\n      \"properties\": {\n        \"dtype\": \"category\",\n        \"num_unique_values\": 4,\n        \"samples\": [\n          2,\n          \"577\",\n          \"891\"\n        ],\n        \"semantic_type\": \"\",\n        \"description\": \"\"\n      }\n    },\n    {\n      \"column\": \"Age\",\n      \"properties\": {\n        \"dtype\": \"number\",\n        \"std\": 242.9056731818781,\n        \"min\": 0.42,\n        \"max\": 714.0,\n        \"num_unique_values\": 8,\n        \"samples\": [\n          29.69911764705882,\n          28.0,\n          714.0\n        ],\n        \"semantic_type\": \"\",\n        \"description\": \"\"\n      }\n    },\n    {\n      \"column\": \"SibSp\",\n      \"properties\": {\n        \"dtype\": \"number\",\n        \"std\": 314.4908277465442,\n        \"min\": 0.0,\n        \"max\": 891.0,\n        \"num_unique_values\": 6,\n        \"samples\": [\n          891.0,\n          0.5230078563411896,\n          8.0\n        ],\n        \"semantic_type\": \"\",\n        \"description\": \"\"\n      }\n    },\n    {\n      \"column\": \"Parch\",\n      \"properties\": {\n        \"dtype\": \"number\",\n        \"std\": 314.65971717879,\n        \"min\": 0.0,\n        \"max\": 891.0,\n        \"num_unique_values\": 5,\n        \"samples\": [\n          0.38159371492704824,\n          6.0,\n          0.8060572211299559\n        ],\n        \"semantic_type\": \"\",\n        \"description\": \"\"\n      }\n    },\n    {\n      \"column\": \"Ticket\",\n      \"properties\": {\n        \"dtype\": \"category\",\n        \"num_unique_values\": 4,\n        \"samples\": [\n          681,\n          \"7\",\n          \"891\"\n        ],\n        \"semantic_type\": \"\",\n        \"description\": \"\"\n      }\n    },\n    {\n      \"column\": \"Fare\",\n      \"properties\": {\n        \"dtype\": \"number\",\n        \"std\": 330.6256632228577,\n        \"min\": 0.0,\n        \"max\": 891.0,\n        \"num_unique_values\": 8,\n        \"samples\": [\n          32.204207968574636,\n          14.4542,\n          891.0\n        ],\n        \"semantic_type\": \"\",\n        \"description\": \"\"\n      }\n    },\n    {\n      \"column\": \"Cabin\",\n      \"properties\": {\n        \"dtype\": \"category\",\n        \"num_unique_values\": 4,\n        \"samples\": [\n          147,\n          \"4\",\n          \"204\"\n        ],\n        \"semantic_type\": \"\",\n        \"description\": \"\"\n      }\n    },\n    {\n      \"column\": \"Embarked\",\n      \"properties\": {\n        \"dtype\": \"category\",\n        \"num_unique_values\": 4,\n        \"samples\": [\n          3,\n          \"644\",\n          \"889\"\n        ],\n        \"semantic_type\": \"\",\n        \"description\": \"\"\n      }\n    }\n  ]\n}"
            }
          },
          "metadata": {},
          "execution_count": 13
        }
      ]
    },
    {
      "cell_type": "code",
      "source": [
        "# Vemos que porcentaje sobrevivio y que porcentaje no lo hizo\n",
        "df_titanic_train['Survived'].value_counts(normalize=True)"
      ],
      "metadata": {
        "colab": {
          "base_uri": "https://localhost:8080/",
          "height": 178
        },
        "id": "26xwhlBXWWu3",
        "outputId": "edfe1530-60fe-4063-919d-0f76c0e1e548"
      },
      "execution_count": null,
      "outputs": [
        {
          "output_type": "execute_result",
          "data": {
            "text/plain": [
              "Survived\n",
              "0    0.616162\n",
              "1    0.383838\n",
              "Name: proportion, dtype: float64"
            ],
            "text/html": [
              "<div>\n",
              "<style scoped>\n",
              "    .dataframe tbody tr th:only-of-type {\n",
              "        vertical-align: middle;\n",
              "    }\n",
              "\n",
              "    .dataframe tbody tr th {\n",
              "        vertical-align: top;\n",
              "    }\n",
              "\n",
              "    .dataframe thead th {\n",
              "        text-align: right;\n",
              "    }\n",
              "</style>\n",
              "<table border=\"1\" class=\"dataframe\">\n",
              "  <thead>\n",
              "    <tr style=\"text-align: right;\">\n",
              "      <th></th>\n",
              "      <th>proportion</th>\n",
              "    </tr>\n",
              "    <tr>\n",
              "      <th>Survived</th>\n",
              "      <th></th>\n",
              "    </tr>\n",
              "  </thead>\n",
              "  <tbody>\n",
              "    <tr>\n",
              "      <th>0</th>\n",
              "      <td>0.616162</td>\n",
              "    </tr>\n",
              "    <tr>\n",
              "      <th>1</th>\n",
              "      <td>0.383838</td>\n",
              "    </tr>\n",
              "  </tbody>\n",
              "</table>\n",
              "</div><br><label><b>dtype:</b> float64</label>"
            ]
          },
          "metadata": {},
          "execution_count": 14
        }
      ]
    },
    {
      "cell_type": "markdown",
      "source": [
        "# Transformación\n",
        "En esta etapa realizamos la **limpieza y transformación de datos**.  \n",
        "Acciones principales:\n",
        "- Imputación de valores nulos en `Cabin`, `Age` y `Embarked`.  \n",
        "- Transformación de `Cabin` en nuevas variables (`CabinLetter`, `HasCabin`).  \n",
        "- Creación de nuevas variables (features).  \n",
        "- Codificación de variables categóricas (`Sex`, `Embarked`, etc.) para los modelos."
      ],
      "metadata": {
        "id": "vLnPm_vwSLqe"
      }
    },
    {
      "cell_type": "markdown",
      "source": [
        "### Imputación y transformación de la variable Cabin\n",
        "\n",
        "La columna `Cabin` presenta más del **77% de valores nulos**, por lo que no es viable imputarla de manera directa.  \n",
        "En su lugar, realizamos tres estrategias:\n",
        "\n",
        "1. **HasCabin:** variable binaria que indica si el pasajero tenía cabina registrada.  \n",
        "2. **CabinLetter:** variable categórica que representa la cubierta (primera letra de la cabina) o \"Unknown\" si no estaba disponible.  \n",
        "3. **Asignación de Cabina por Ticket Compartido:**  \n",
        "En algunos casos, los pasajeros compartían el mismo ticket (ej. familias o sirvientes), lo que sugiere que también compartían cabina.  \n",
        "Si un pasajero no tiene cabina registrada pero otro con el mismo ticket sí, se le asigna la misma cabina."
      ],
      "metadata": {
        "id": "YNkrjUaIVSNH"
      }
    },
    {
      "cell_type": "code",
      "source": [
        "# --- Primero vamos a extraer la letra de la cabina ---\n",
        "df_titanic_train['CabinLetter'] = df_titanic_train['Cabin'].str[0]\n",
        "\n",
        "# --- Visualizamos como se distribuyen las letras de la cabina con la clase para ver una relacion entre estas ---\n",
        "cabin_class_table = pd.crosstab(df_titanic_train['CabinLetter'], df_titanic_train['Pclass'])\n",
        "print(cabin_class_table)"
      ],
      "metadata": {
        "colab": {
          "base_uri": "https://localhost:8080/"
        },
        "id": "TBPy_0y2Xi9L",
        "outputId": "f1f7bccb-2b89-4597-acf3-f6acbfac192d"
      },
      "execution_count": null,
      "outputs": [
        {
          "output_type": "stream",
          "name": "stdout",
          "text": [
            "Pclass        1  2  3\n",
            "CabinLetter          \n",
            "A            15  0  0\n",
            "B            47  0  0\n",
            "C            59  0  0\n",
            "D            29  4  0\n",
            "E            25  4  3\n",
            "F             0  8  5\n",
            "G             0  0  4\n",
            "T             1  0  0\n"
          ]
        }
      ]
    },
    {
      "cell_type": "code",
      "source": [
        "# Distribución de HasCabin\n",
        "plt.figure(figsize=(6,5))\n",
        "ax = sns.countplot(x=\"HasCabin\", data=df_titanic_train, palette=\"flare\")\n",
        "plt.title(\"Distribución de pasajeros con/ sin cabina registrada\", fontsize=14, pad=12)\n",
        "plt.xlabel(\"Tiene cabina (0=No, 1=Sí)\")\n",
        "plt.ylabel(\"Número de pasajeros\")\n",
        "\n",
        "# Etiquetas\n",
        "counts = df_titanic_train['HasCabin'].value_counts().sort_index()\n",
        "total = len(df_titanic_train)\n",
        "for i, val in enumerate(counts):\n",
        "    perc = val / total * 100\n",
        "    ax.text(i, val, f\"{val} ({perc:.1f}%)\", ha='center', va='bottom', fontsize=10, fontweight='bold')\n",
        "\n",
        "plt.show()"
      ],
      "metadata": {
        "colab": {
          "base_uri": "https://localhost:8080/",
          "height": 382
        },
        "id": "d1eVQ7HTggzT",
        "outputId": "05807a60-49ba-448d-aeae-b8cee10c0dfd"
      },
      "execution_count": null,
      "outputs": [
        {
          "output_type": "error",
          "ename": "ValueError",
          "evalue": "Could not interpret value `HasCabin` for `x`. An entry with this name does not appear in `data`.",
          "traceback": [
            "\u001b[0;31m---------------------------------------------------------------------------\u001b[0m",
            "\u001b[0;31mValueError\u001b[0m                                Traceback (most recent call last)",
            "\u001b[0;32m/tmp/ipython-input-342645068.py\u001b[0m in \u001b[0;36m<cell line: 0>\u001b[0;34m()\u001b[0m\n\u001b[1;32m      1\u001b[0m \u001b[0;31m# Distribución de HasCabin\u001b[0m\u001b[0;34m\u001b[0m\u001b[0;34m\u001b[0m\u001b[0m\n\u001b[1;32m      2\u001b[0m \u001b[0mplt\u001b[0m\u001b[0;34m.\u001b[0m\u001b[0mfigure\u001b[0m\u001b[0;34m(\u001b[0m\u001b[0mfigsize\u001b[0m\u001b[0;34m=\u001b[0m\u001b[0;34m(\u001b[0m\u001b[0;36m6\u001b[0m\u001b[0;34m,\u001b[0m\u001b[0;36m5\u001b[0m\u001b[0;34m)\u001b[0m\u001b[0;34m)\u001b[0m\u001b[0;34m\u001b[0m\u001b[0;34m\u001b[0m\u001b[0m\n\u001b[0;32m----> 3\u001b[0;31m \u001b[0max\u001b[0m \u001b[0;34m=\u001b[0m \u001b[0msns\u001b[0m\u001b[0;34m.\u001b[0m\u001b[0mcountplot\u001b[0m\u001b[0;34m(\u001b[0m\u001b[0mx\u001b[0m\u001b[0;34m=\u001b[0m\u001b[0;34m\"HasCabin\"\u001b[0m\u001b[0;34m,\u001b[0m \u001b[0mdata\u001b[0m\u001b[0;34m=\u001b[0m\u001b[0mdf_titanic_train\u001b[0m\u001b[0;34m,\u001b[0m \u001b[0mpalette\u001b[0m\u001b[0;34m=\u001b[0m\u001b[0;34m\"flare\"\u001b[0m\u001b[0;34m)\u001b[0m\u001b[0;34m\u001b[0m\u001b[0;34m\u001b[0m\u001b[0m\n\u001b[0m\u001b[1;32m      4\u001b[0m \u001b[0mplt\u001b[0m\u001b[0;34m.\u001b[0m\u001b[0mtitle\u001b[0m\u001b[0;34m(\u001b[0m\u001b[0;34m\"Distribución de pasajeros con/ sin cabina registrada\"\u001b[0m\u001b[0;34m,\u001b[0m \u001b[0mfontsize\u001b[0m\u001b[0;34m=\u001b[0m\u001b[0;36m14\u001b[0m\u001b[0;34m,\u001b[0m \u001b[0mpad\u001b[0m\u001b[0;34m=\u001b[0m\u001b[0;36m12\u001b[0m\u001b[0;34m)\u001b[0m\u001b[0;34m\u001b[0m\u001b[0;34m\u001b[0m\u001b[0m\n\u001b[1;32m      5\u001b[0m \u001b[0mplt\u001b[0m\u001b[0;34m.\u001b[0m\u001b[0mxlabel\u001b[0m\u001b[0;34m(\u001b[0m\u001b[0;34m\"Tiene cabina (0=No, 1=Sí)\"\u001b[0m\u001b[0;34m)\u001b[0m\u001b[0;34m\u001b[0m\u001b[0;34m\u001b[0m\u001b[0m\n",
            "\u001b[0;32m/usr/local/lib/python3.12/dist-packages/seaborn/categorical.py\u001b[0m in \u001b[0;36mcountplot\u001b[0;34m(data, x, y, hue, order, hue_order, orient, color, palette, saturation, fill, hue_norm, stat, width, dodge, gap, log_scale, native_scale, formatter, legend, ax, **kwargs)\u001b[0m\n\u001b[1;32m   2629\u001b[0m         \u001b[0;32mraise\u001b[0m \u001b[0mTypeError\u001b[0m\u001b[0;34m(\u001b[0m\u001b[0;34m\"Cannot pass values for both `x` and `y`.\"\u001b[0m\u001b[0;34m)\u001b[0m\u001b[0;34m\u001b[0m\u001b[0;34m\u001b[0m\u001b[0m\n\u001b[1;32m   2630\u001b[0m \u001b[0;34m\u001b[0m\u001b[0m\n\u001b[0;32m-> 2631\u001b[0;31m     p = _CategoricalAggPlotter(\n\u001b[0m\u001b[1;32m   2632\u001b[0m         \u001b[0mdata\u001b[0m\u001b[0;34m=\u001b[0m\u001b[0mdata\u001b[0m\u001b[0;34m,\u001b[0m\u001b[0;34m\u001b[0m\u001b[0;34m\u001b[0m\u001b[0m\n\u001b[1;32m   2633\u001b[0m         \u001b[0mvariables\u001b[0m\u001b[0;34m=\u001b[0m\u001b[0mdict\u001b[0m\u001b[0;34m(\u001b[0m\u001b[0mx\u001b[0m\u001b[0;34m=\u001b[0m\u001b[0mx\u001b[0m\u001b[0;34m,\u001b[0m \u001b[0my\u001b[0m\u001b[0;34m=\u001b[0m\u001b[0my\u001b[0m\u001b[0;34m,\u001b[0m \u001b[0mhue\u001b[0m\u001b[0;34m=\u001b[0m\u001b[0mhue\u001b[0m\u001b[0;34m)\u001b[0m\u001b[0;34m,\u001b[0m\u001b[0;34m\u001b[0m\u001b[0;34m\u001b[0m\u001b[0m\n",
            "\u001b[0;32m/usr/local/lib/python3.12/dist-packages/seaborn/categorical.py\u001b[0m in \u001b[0;36m__init__\u001b[0;34m(self, data, variables, order, orient, require_numeric, color, legend)\u001b[0m\n\u001b[1;32m     65\u001b[0m     ):\n\u001b[1;32m     66\u001b[0m \u001b[0;34m\u001b[0m\u001b[0m\n\u001b[0;32m---> 67\u001b[0;31m         \u001b[0msuper\u001b[0m\u001b[0;34m(\u001b[0m\u001b[0;34m)\u001b[0m\u001b[0;34m.\u001b[0m\u001b[0m__init__\u001b[0m\u001b[0;34m(\u001b[0m\u001b[0mdata\u001b[0m\u001b[0;34m=\u001b[0m\u001b[0mdata\u001b[0m\u001b[0;34m,\u001b[0m \u001b[0mvariables\u001b[0m\u001b[0;34m=\u001b[0m\u001b[0mvariables\u001b[0m\u001b[0;34m)\u001b[0m\u001b[0;34m\u001b[0m\u001b[0;34m\u001b[0m\u001b[0m\n\u001b[0m\u001b[1;32m     68\u001b[0m \u001b[0;34m\u001b[0m\u001b[0m\n\u001b[1;32m     69\u001b[0m         \u001b[0;31m# This method takes care of some bookkeeping that is necessary because the\u001b[0m\u001b[0;34m\u001b[0m\u001b[0;34m\u001b[0m\u001b[0m\n",
            "\u001b[0;32m/usr/local/lib/python3.12/dist-packages/seaborn/_base.py\u001b[0m in \u001b[0;36m__init__\u001b[0;34m(self, data, variables)\u001b[0m\n\u001b[1;32m    632\u001b[0m         \u001b[0;31m# information for numeric axes would be information about log scales.\u001b[0m\u001b[0;34m\u001b[0m\u001b[0;34m\u001b[0m\u001b[0m\n\u001b[1;32m    633\u001b[0m         \u001b[0mself\u001b[0m\u001b[0;34m.\u001b[0m\u001b[0m_var_ordered\u001b[0m \u001b[0;34m=\u001b[0m \u001b[0;34m{\u001b[0m\u001b[0;34m\"x\"\u001b[0m\u001b[0;34m:\u001b[0m \u001b[0;32mFalse\u001b[0m\u001b[0;34m,\u001b[0m \u001b[0;34m\"y\"\u001b[0m\u001b[0;34m:\u001b[0m \u001b[0;32mFalse\u001b[0m\u001b[0;34m}\u001b[0m  \u001b[0;31m# alt., used DefaultDict\u001b[0m\u001b[0;34m\u001b[0m\u001b[0;34m\u001b[0m\u001b[0m\n\u001b[0;32m--> 634\u001b[0;31m         \u001b[0mself\u001b[0m\u001b[0;34m.\u001b[0m\u001b[0massign_variables\u001b[0m\u001b[0;34m(\u001b[0m\u001b[0mdata\u001b[0m\u001b[0;34m,\u001b[0m \u001b[0mvariables\u001b[0m\u001b[0;34m)\u001b[0m\u001b[0;34m\u001b[0m\u001b[0;34m\u001b[0m\u001b[0m\n\u001b[0m\u001b[1;32m    635\u001b[0m \u001b[0;34m\u001b[0m\u001b[0m\n\u001b[1;32m    636\u001b[0m         \u001b[0;31m# TODO Lots of tests assume that these are called to initialize the\u001b[0m\u001b[0;34m\u001b[0m\u001b[0;34m\u001b[0m\u001b[0m\n",
            "\u001b[0;32m/usr/local/lib/python3.12/dist-packages/seaborn/_base.py\u001b[0m in \u001b[0;36massign_variables\u001b[0;34m(self, data, variables)\u001b[0m\n\u001b[1;32m    677\u001b[0m             \u001b[0;31m# to centralize / standardize data consumption logic.\u001b[0m\u001b[0;34m\u001b[0m\u001b[0;34m\u001b[0m\u001b[0m\n\u001b[1;32m    678\u001b[0m             \u001b[0mself\u001b[0m\u001b[0;34m.\u001b[0m\u001b[0minput_format\u001b[0m \u001b[0;34m=\u001b[0m \u001b[0;34m\"long\"\u001b[0m\u001b[0;34m\u001b[0m\u001b[0;34m\u001b[0m\u001b[0m\n\u001b[0;32m--> 679\u001b[0;31m             \u001b[0mplot_data\u001b[0m \u001b[0;34m=\u001b[0m \u001b[0mPlotData\u001b[0m\u001b[0;34m(\u001b[0m\u001b[0mdata\u001b[0m\u001b[0;34m,\u001b[0m \u001b[0mvariables\u001b[0m\u001b[0;34m)\u001b[0m\u001b[0;34m\u001b[0m\u001b[0;34m\u001b[0m\u001b[0m\n\u001b[0m\u001b[1;32m    680\u001b[0m             \u001b[0mframe\u001b[0m \u001b[0;34m=\u001b[0m \u001b[0mplot_data\u001b[0m\u001b[0;34m.\u001b[0m\u001b[0mframe\u001b[0m\u001b[0;34m\u001b[0m\u001b[0;34m\u001b[0m\u001b[0m\n\u001b[1;32m    681\u001b[0m             \u001b[0mnames\u001b[0m \u001b[0;34m=\u001b[0m \u001b[0mplot_data\u001b[0m\u001b[0;34m.\u001b[0m\u001b[0mnames\u001b[0m\u001b[0;34m\u001b[0m\u001b[0;34m\u001b[0m\u001b[0m\n",
            "\u001b[0;32m/usr/local/lib/python3.12/dist-packages/seaborn/_core/data.py\u001b[0m in \u001b[0;36m__init__\u001b[0;34m(self, data, variables)\u001b[0m\n\u001b[1;32m     56\u001b[0m \u001b[0;34m\u001b[0m\u001b[0m\n\u001b[1;32m     57\u001b[0m         \u001b[0mdata\u001b[0m \u001b[0;34m=\u001b[0m \u001b[0mhandle_data_source\u001b[0m\u001b[0;34m(\u001b[0m\u001b[0mdata\u001b[0m\u001b[0;34m)\u001b[0m\u001b[0;34m\u001b[0m\u001b[0;34m\u001b[0m\u001b[0m\n\u001b[0;32m---> 58\u001b[0;31m         \u001b[0mframe\u001b[0m\u001b[0;34m,\u001b[0m \u001b[0mnames\u001b[0m\u001b[0;34m,\u001b[0m \u001b[0mids\u001b[0m \u001b[0;34m=\u001b[0m \u001b[0mself\u001b[0m\u001b[0;34m.\u001b[0m\u001b[0m_assign_variables\u001b[0m\u001b[0;34m(\u001b[0m\u001b[0mdata\u001b[0m\u001b[0;34m,\u001b[0m \u001b[0mvariables\u001b[0m\u001b[0;34m)\u001b[0m\u001b[0;34m\u001b[0m\u001b[0;34m\u001b[0m\u001b[0m\n\u001b[0m\u001b[1;32m     59\u001b[0m \u001b[0;34m\u001b[0m\u001b[0m\n\u001b[1;32m     60\u001b[0m         \u001b[0mself\u001b[0m\u001b[0;34m.\u001b[0m\u001b[0mframe\u001b[0m \u001b[0;34m=\u001b[0m \u001b[0mframe\u001b[0m\u001b[0;34m\u001b[0m\u001b[0;34m\u001b[0m\u001b[0m\n",
            "\u001b[0;32m/usr/local/lib/python3.12/dist-packages/seaborn/_core/data.py\u001b[0m in \u001b[0;36m_assign_variables\u001b[0;34m(self, data, variables)\u001b[0m\n\u001b[1;32m    230\u001b[0m                 \u001b[0;32melse\u001b[0m\u001b[0;34m:\u001b[0m\u001b[0;34m\u001b[0m\u001b[0;34m\u001b[0m\u001b[0m\n\u001b[1;32m    231\u001b[0m                     \u001b[0merr\u001b[0m \u001b[0;34m+=\u001b[0m \u001b[0;34m\"An entry with this name does not appear in `data`.\"\u001b[0m\u001b[0;34m\u001b[0m\u001b[0;34m\u001b[0m\u001b[0m\n\u001b[0;32m--> 232\u001b[0;31m                 \u001b[0;32mraise\u001b[0m \u001b[0mValueError\u001b[0m\u001b[0;34m(\u001b[0m\u001b[0merr\u001b[0m\u001b[0;34m)\u001b[0m\u001b[0;34m\u001b[0m\u001b[0;34m\u001b[0m\u001b[0m\n\u001b[0m\u001b[1;32m    233\u001b[0m \u001b[0;34m\u001b[0m\u001b[0m\n\u001b[1;32m    234\u001b[0m             \u001b[0;32melse\u001b[0m\u001b[0;34m:\u001b[0m\u001b[0;34m\u001b[0m\u001b[0;34m\u001b[0m\u001b[0m\n",
            "\u001b[0;31mValueError\u001b[0m: Could not interpret value `HasCabin` for `x`. An entry with this name does not appear in `data`."
          ]
        },
        {
          "output_type": "display_data",
          "data": {
            "text/plain": [
              "<Figure size 600x500 with 0 Axes>"
            ]
          },
          "metadata": {}
        }
      ]
    },
    {
      "cell_type": "markdown",
      "source": [
        "#### Visualización de la variable Cabin transformada"
      ],
      "metadata": {
        "id": "edwsfu7-ghgp"
      }
    },
    {
      "cell_type": "markdown",
      "source": [
        "Ticket, cabin,Pclass: Buscamos relacionar el número en Ticket con las cabinas. Si un número de ticket tiene asignado una cabina (cabin), se le asigna a los demás que tengan ese mismo. Esto lo hacemos para que se pueda usar la idea de clasificar la cabina por números y nombres para así relacionar el tipo de cabina con la clase (Pclass)."
      ],
      "metadata": {
        "id": "s1H7MUaUXW9O"
      }
    },
    {
      "cell_type": "code",
      "source": [
        "#Reemplazamos los valores faltantes por medio de la mediana\n",
        "df_titanic_test['Fare'] = df_titanic_test['Fare'].fillna(df_titanic_test['Fare'].median())"
      ],
      "metadata": {
        "id": "NQcB9F0CXWg3"
      },
      "execution_count": null,
      "outputs": []
    },
    {
      "cell_type": "markdown",
      "source": [
        "Name → Extraer el Título (Mr, Miss, etc.), luego el campo original se elimina."
      ],
      "metadata": {
        "id": "w9F87jZ9Lh3g"
      }
    },
    {
      "cell_type": "code",
      "source": [
        "# Extraemos solamente el titulo\n",
        "df_titanic_train['Title'] = df_titanic_train['Name'].str.extract(r',\\s*([^\\.]+)\\.', expand=False)\n",
        "\n",
        "# Verificamos que solo estan los titulos de cada nombre\n",
        "print(df_titanic_train['Title'].value_counts())\n",
        "\n",
        "#Eliminamos la columna del nombre\n",
        "df_titanic_train.drop(columns=['Name'], inplace=True)"
      ],
      "metadata": {
        "id": "Q9Vm0gE0Lv_a"
      },
      "execution_count": null,
      "outputs": []
    },
    {
      "cell_type": "markdown",
      "source": [
        "Ticket → Demasiada variabilidad y ruido → eliminar después de crear TicketGroupSize e InGroup"
      ],
      "metadata": {
        "id": "Mz4X4AICXFiI"
      }
    },
    {
      "cell_type": "code",
      "source": [
        "#Vamos a contar cuantas personas tienen el mismo numero del ticket, ya que si un grupo compartia el mismo numero puede que fueran juntas\n",
        "df_titanic_train['TicketGroupSize'] = df_titanic_train.groupby('Ticket')['Ticket'].transform('count')\n",
        "\n",
        "#Es un booleano para determinar si la persona viajaba en grupo o solo\n",
        "df_titanic_train['InGroup'] = (df_titanic_train['TicketGroupSize'] > 1).astype(int)\n",
        "\n",
        "df_titanic_train.drop(columns=['Ticket'], inplace=True)"
      ],
      "metadata": {
        "id": "IOy0ZIHeXLJk"
      },
      "execution_count": null,
      "outputs": []
    },
    {
      "cell_type": "markdown",
      "source": [
        "Sex: convertido a variable binaria → male=0, female=1."
      ],
      "metadata": {
        "id": "418hbr-IXL8Y"
      }
    },
    {
      "cell_type": "code",
      "source": [
        "df_titanic_train['Sex'] = df_titanic_train['Sex'].map({'male': 0, 'female': 1})\n",
        "\n",
        "df_titanic_test['Sex'] = df_titanic_test['Sex'].map({'male': 0, 'female': 1})"
      ],
      "metadata": {
        "id": "prfCHqnYXOMd"
      },
      "execution_count": null,
      "outputs": []
    },
    {
      "cell_type": "markdown",
      "source": [
        "Age: Imputar valores faltantes por medio del titulo y la mediana de cada grupo"
      ],
      "metadata": {
        "id": "_LKRax5eXOfk"
      }
    },
    {
      "cell_type": "code",
      "source": [
        "#Agrupamos por el titulo, seleccionamos la edad y a las filas que esten vacias vamos a calcular la mediana, con el transform le aplicamos este resultado a esa fila\n",
        "df_titanic_train['Age'] = df_titanic_train.groupby('Title')['Age'].transform(lambda x: x.fillna(x.median()))\n",
        "\n",
        "#test['Age'] = test.groupby('Title')['Age'].transform(lambda x: x.fillna(x.median()))"
      ],
      "metadata": {
        "id": "QlHVPtilXRQS"
      },
      "execution_count": null,
      "outputs": []
    },
    {
      "cell_type": "markdown",
      "source": [
        "Embarked: Imputar valores por medio de la moda"
      ],
      "metadata": {
        "id": "77evXjOHXRqT"
      }
    },
    {
      "cell_type": "code",
      "source": [
        "# Utilizamos fillna para llenar los campos vacios, reemplazandolos con la moda y utilizando el primer indice en el caso que nos devuelva mas de 1 valor\n",
        "df_titanic_train['Embarked'] = df_titanic_train['Embarked'].fillna(df_titanic_train['Embarked'].mode()[0])"
      ],
      "metadata": {
        "id": "DhKBOm5YXT-l"
      },
      "execution_count": null,
      "outputs": []
    },
    {
      "cell_type": "markdown",
      "source": [
        "Fare: Imputamos el valor faltante por medio de la mediana para evitar outliers por valores extremos: ESTO ES EN TEST"
      ],
      "metadata": {
        "id": "cLCcR7dnXUfe"
      }
    },
    {
      "cell_type": "markdown",
      "source": [
        "Se dejó a un lado por las siguientes razones:\n",
        "\n",
        "\n",
        "*   La variable CabinLetter esta altamente sesgada hacia la primera clase, con muy poca representacion hacia la segunda y tercera clase\n",
        "\n",
        "*   Limita la capacidad predictiva y nos puede meter mas ruido que valor\n",
        "mas del 75% de los pasajeros no tienen cabina\n",
        "*   Casi toda la informacion esta en la primera clase\n",
        "\n",
        "*   Tenemos riesgo de overfitting si el modelo aprende patrones de cabina que no generalizan"
      ],
      "metadata": {
        "id": "SBXHEiupvy_L"
      }
    },
    {
      "cell_type": "code",
      "source": [
        "# --- Visualizamos si el pasajero tiene cabina o no ---\n",
        "df_titanic_train['HasCabin'] = df_titanic_train['Cabin'].notnull().astype(int)\n",
        "\n",
        "# --- Vamos a ver la tasa de supervivencia por HasCabin para ver si tiene una fuerte correlacion el hecho de que tenga cabina o no\n",
        "survival_by_cabin = df_titanic_train.groupby('HasCabin')['Survived'].mean()\n",
        "print(survival_by_cabin)"
      ],
      "metadata": {
        "id": "ihaySF_AxAeB"
      },
      "execution_count": null,
      "outputs": []
    },
    {
      "cell_type": "code",
      "source": [
        "sns.barplot(x='HasCabin', y='Survived', data=df_titanic_train, palette=\"flare\")\n",
        "plt.title('Tasa de supervivencia según HasCabin')\n",
        "plt.xticks([0, 1], ['Sin cabina', 'Con cabina'])\n",
        "plt.ylabel('Tasa de supervivencia')\n",
        "\n",
        "plt.show()"
      ],
      "metadata": {
        "id": "kIPLYlmTxW1b"
      },
      "execution_count": null,
      "outputs": []
    },
    {
      "cell_type": "code",
      "source": [
        "# --- Eliminamos CabinLetter y Cabin porque no nos sirve ---\n",
        "df_titanic_train.drop(columns=['CabinLetter', 'Cabin'], errors='ignore', inplace=True)\n",
        "df_titanic_test.drop(columns=['Cabin'], errors='ignore', inplace=True)"
      ],
      "metadata": {
        "id": "tMRiixeVxmZU"
      },
      "execution_count": null,
      "outputs": []
    },
    {
      "cell_type": "markdown",
      "source": [
        "Creamos una variable llamada FamilySize para contar el numero de familiares con los que viajaba"
      ],
      "metadata": {
        "id": "BDYoxBTfzDqV"
      }
    },
    {
      "cell_type": "code",
      "source": [
        "df_titanic_train['FamilySize'] = df_titanic_train['SibSp'] + df_titanic_train['Parch']\n",
        "#test['FamilySize'] = test['SibSp'] + test['Parch']"
      ],
      "metadata": {
        "id": "BsEtOzpPzO1R"
      },
      "execution_count": null,
      "outputs": []
    },
    {
      "cell_type": "markdown",
      "source": [
        "Creamos una variable booleana para verificar si iba con algun familiar o no"
      ],
      "metadata": {
        "id": "RETiiLEkzfUF"
      }
    },
    {
      "cell_type": "code",
      "source": [
        "df_titanic_train['IsAlone'] = (df_titanic_train['FamilySize'] == 0).astype(int)"
      ],
      "metadata": {
        "id": "d-lPo5qBzk9B"
      },
      "execution_count": null,
      "outputs": []
    },
    {
      "cell_type": "markdown",
      "source": [
        "\n",
        "\n",
        "*   Pclass: Clase del boleto\n",
        "\n",
        "*   Sex: 0 = hombre; 1 = mujer\n",
        "\n",
        "*   Age: Edad de la persona\n",
        "\n",
        "*   Fare: Precio del boleto (lo podemos relacionar con la clase)\n",
        "*   Embarked: Puerto de embarque (Lo podemos relacionar con la ubicacion en el barco)\n",
        "\n",
        "*   Title: Lo extraimos del nombre para ver su titulo (estatus social)\n",
        "\n",
        "*   TicketGroupSize: Tamaño del grupo que comparte el ticket, pueden ser sus vinculos sociales\n",
        "\n",
        "*   InGroup: Un booleano para determinar si viaja solo o en grupo; captura vinculo social\n",
        "\n",
        "*   HasCabin: Un booleano para determinar si tiene cabina o no\n",
        "*   FamilySize: Total de sus familiares a bordo (SibSp + Parch) captura vinculo familiar\n",
        "*   IsAlone: Para determinar si viaja completamente solo; captura vinculo familiar\n",
        "\n",
        "\n",
        "\n",
        "\n"
      ],
      "metadata": {
        "id": "deinvTsm0Rew"
      }
    },
    {
      "cell_type": "code",
      "source": [
        "df_titanic_train.head()"
      ],
      "metadata": {
        "id": "lMWLAsLczsiq"
      },
      "execution_count": null,
      "outputs": []
    },
    {
      "cell_type": "markdown",
      "source": [
        "#Hipotesis"
      ],
      "metadata": {
        "id": "v-BU3wB0IL6n"
      }
    },
    {
      "cell_type": "markdown",
      "source": [
        "Primero mostramos la correlacion de las variables con la variable survived"
      ],
      "metadata": {
        "id": "MaBz5RfYKH75"
      }
    },
    {
      "cell_type": "code",
      "source": [
        "# 1. Copia del dataset original\n",
        "train_encoded = df_titanic_train.copy()\n",
        "\n",
        "# 2. Codificación de Embarked (si es necesario)\n",
        "if \"Embarked\" in train_encoded.columns:\n",
        "    train_encoded[\"Embarked\"] = train_encoded[\"Embarked\"].astype(str).str.upper().str.strip()\n",
        "    train_encoded[\"Embarked\"] = train_encoded[\"Embarked\"].map({\"C\": 0, \"Q\": 1, \"S\": 2})\n",
        "\n",
        "# 3. Verificar que Sex ya esté codificado correctamente\n",
        "print(\"Valores únicos en Sex:\", train_encoded[\"Sex\"].unique())\n",
        "\n",
        "# 4. Calcular matriz de correlaciones numéricas\n",
        "corr_matrix = train_encoded.corr(numeric_only=True)\n",
        "\n",
        "# 5. Extraer correlaciones con Survived\n",
        "corr_survived = corr_matrix[\"Survived\"].drop(\"Survived\").sort_values(ascending=False)\n",
        "\n",
        "# 6. Heatmap completo\n",
        "plt.figure(figsize=(10, 6))\n",
        "sns.heatmap(corr_matrix, annot=True, cmap=\"coolwarm\", fmt=\".2f\")\n",
        "plt.title(\"Mapa de Correlaciones entre Variables\", fontsize=14)\n",
        "plt.tight_layout()\n",
        "plt.show()\n"
      ],
      "metadata": {
        "id": "rzHvsVv_KEE-"
      },
      "execution_count": null,
      "outputs": []
    },
    {
      "cell_type": "markdown",
      "source": [
        "#Distribución de Supervivencia"
      ],
      "metadata": {
        "id": "FSydRnE4Hb57"
      }
    },
    {
      "cell_type": "code",
      "source": [
        "sns.countplot(x=\"Survived\", data=df_titanic_train, palette=\"flare\")\n",
        "plt.title(\"Distribución de Supervivencia\")\n",
        "plt.xlabel(\"0 = No sobrevivió, 1 = Sobrevivió\")\n",
        "plt.show()"
      ],
      "metadata": {
        "id": "ZIUjQqVHHeLK"
      },
      "execution_count": null,
      "outputs": []
    },
    {
      "cell_type": "markdown",
      "source": [
        "#Sexo vs supervivencia\n",
        "\n",
        "Por la fuerza fisica y el instinto protector"
      ],
      "metadata": {
        "id": "FJk5tchNHszM"
      }
    },
    {
      "cell_type": "code",
      "source": [
        "sns.barplot(x=\"Sex\", y=\"Survived\", data=df_titanic_train, palette=\"flare\")\n",
        "plt.title(\"Supervivencia por Sexo\")\n",
        "plt.ylabel(\"Proporción de supervivencia\")\n",
        "plt.xlabel(\"0 = Male, 1 = Female\")\n",
        "plt.show()"
      ],
      "metadata": {
        "id": "5KSfX3g8HsPm"
      },
      "execution_count": null,
      "outputs": []
    },
    {
      "cell_type": "markdown",
      "source": [
        "#Edad y autosuficiencia\n",
        "Como los niños pequeños no tienen mucha fuerza o instinto de supervivencia tan arraigado, es dificil que puedan sobrevivir a menos que su padre/madre este cerca, pero esto aun asi no incrementa mucho su probabilidad de sobrevivir"
      ],
      "metadata": {
        "id": "sty1Q2QDIFdb"
      }
    },
    {
      "cell_type": "code",
      "source": [
        "#Visualizamos la distribucion de edad y como se relaciona con la supervivencia\n",
        "sns.histplot(data=df_titanic_train, x=\"Age\", hue=\"Survived\", bins=30, kde=True, palette=\"flare\")\n",
        "plt.title(\"Distribución de Edad por Supervivencia\")\n",
        "plt.show()"
      ],
      "metadata": {
        "id": "lX5TW_HjIILD"
      },
      "execution_count": null,
      "outputs": []
    },
    {
      "cell_type": "code",
      "source": [
        "#Agrupamos por rangos\n",
        "\n",
        "#Primero vamos a dividirlo en 5 grupos\n",
        "n_grupos = 5\n",
        "\n",
        "# Creamos los rangos de edad\n",
        "bins = np.linspace(df_titanic_train[\"Age\"].min(), df_titanic_train[\"Age\"].max(), n_grupos + 1)\n",
        "\n",
        "#Generamos las etiquetas dinamicamente\n",
        "labels = [f\"{int(bins[i])}–{int(bins[i+1])}\" for i in range(n_grupos)]\n",
        "\n",
        "# Hacemos la agrupacion por los rangos de edad\n",
        "df_titanic_train[\"AgeGroup\"] = pd.cut(df_titanic_train[\"Age\"], bins=bins, labels=labels, include_lowest=True)\n",
        "\n",
        "\n",
        "sns.barplot(x=\"AgeGroup\", y=\"Survived\", data=df_titanic_train, palette=\"flare\")\n",
        "plt.title(\"Supervivencia por Grupo de Edad\")\n",
        "plt.xlabel(\"Grupo de Edad\")\n",
        "plt.ylabel(\"Tasa de Supervivencia\")\n",
        "plt.xticks(rotation=45)\n",
        "plt.tight_layout()\n",
        "plt.show()"
      ],
      "metadata": {
        "id": "GwPV8Zm_Ic-1"
      },
      "execution_count": null,
      "outputs": []
    },
    {
      "cell_type": "code",
      "source": [
        "df_titanic_train[\"FamilySize\"] = df_titanic_train[\"SibSp\"] + df_titanic_train[\"Parch\"]\n",
        "sns.barplot(x=\"FamilySize\", y=\"Survived\", data=df_titanic_train, palette=\"flare\")\n",
        "plt.title(\"Supervivencia según Tamaño de Familia\")\n",
        "plt.show()"
      ],
      "metadata": {
        "id": "_bUbQVrUIyQm"
      },
      "execution_count": null,
      "outputs": []
    },
    {
      "cell_type": "markdown",
      "source": [
        "Supervivencia por clase"
      ],
      "metadata": {
        "id": "s4P5aa2XI8eX"
      }
    },
    {
      "cell_type": "code",
      "source": [
        "sns.barplot(x=\"Pclass\", y=\"Survived\", data=df_titanic_train, palette=\"flare\")\n",
        "plt.title(\"Supervivencia por Clase\")\n",
        "plt.show()"
      ],
      "metadata": {
        "id": "QrxBLkmRI-hW"
      },
      "execution_count": null,
      "outputs": []
    },
    {
      "cell_type": "markdown",
      "source": [
        "# 1. Clasificacion supervisada (baseline)\n",
        "Clasificacion supervisada: Tipo de aprendizaje automatico donde el modelo aprende a predecir una etiqueta (survived) a partir de ejemplos etiquetados (train.csv).\n",
        "\n",
        "*   **3 clasificadores: Regresion Logistica, Random Forest, SVM/KNN.**\n",
        "      \n",
        "      Regresion Logistica: Lineal, interpretable y rapido; nos permite ver como cada variable afecta la probabilidad de supervivencia.\n",
        "\n",
        "      Random Forest: Modelo de arboles, no lineal, robusto; captura interacciones entre variables; es menos interpretable pero suele tener mejor rendimiento\n",
        "\n",
        "      KNN: Clasifica segun los vecinos mas cercanos\n",
        "\n",
        "      El objetivo de hacerlo con estos tres modelos es comparar enfoques distintos y ver cual se adapta mejor a nuestros datos.\n",
        "\n",
        "\n",
        "*   **Pipeline con ColumnTransformer.**\n",
        "\n",
        "      El pipeline es la estructura que encadena pasos como preprocesamiento y modelado.\n",
        "\n",
        "      El ColumnTransformer nos permite aplicar transformaciones distintas a columnas numericas y categoricas.\n",
        "\n",
        "      Esto nos lo piden para garantizar que el flujo sea: Reproducible, modular, compatible con validacion cruzada y limpio.\n",
        "\n",
        "\n",
        "*   **Validacion cruzada estratificada (5 folds)**\n",
        "\n",
        "      Esto divide el dataset en 5 partes (folds)\n",
        "\n",
        "      Entrena en 4, valida en 1 y repite 5 veces\n",
        "\n",
        "      Estrateficada se refiere a que mantiene la proporcion de clases (survived) en cada fold\n",
        "\n",
        "      Esto lo haremos para evaluar el modelo de forma robusta y evitar que los resultados dependan de una sola division de datos. Nos sirve para evitar overfitting y obtener metricas confiables\n",
        "\n",
        "\n",
        "*   **Reportar: AUC, Accuracy, Precision, Recall.**\n",
        "\n",
        "      Accuracy: Medimosel porcentaje de predicciones correctas\n",
        "\n",
        "      Precision: Medimos de los que predijo como 'sobrevivio', cuantos realmente sobrevivieron?\n",
        "\n",
        "      Recall: Medimos de los que realmente sobrevivieron, cuantos detecto el modelo?\n",
        "\n",
        "      AUC: Medimos que tan bien separa el modelo ambas clases (area bajo la curva ROC)\n",
        "\n",
        "      Esto es necesario debido a que Accuracy puede no ser tan acertada si las clases estan desbalanceadas. AUC y Recall nos muestran si el modelo realmente distingue bien entre sobrevivientes y no sobrevivientes\n",
        "\n",
        "\n",
        "*   **Visualizacion: Matriz de confusion, curva ROC.**\n",
        "\n",
        "      Matriz de confusion: Nos muestra los verdaderos positivos, falsos positivos, etc. Nos ayuda a entender los errores de cada modelo.\n",
        "\n",
        "      Curva ROC: Visualizamos el trade-off entre sensibilidad (recall) y especificidad. El area bajo la curva (AUC) nos resume el rendimiento.\n",
        "\n"
      ],
      "metadata": {
        "id": "Dw-QUqcyIy-L"
      }
    },
    {
      "cell_type": "markdown",
      "source": [
        "Primero establecemos nuestros features y nuestra variable objetivo"
      ],
      "metadata": {
        "id": "EMZdjuz6F-T5"
      }
    },
    {
      "cell_type": "code",
      "source": [
        "# Nuestras features\n",
        "features = ['Pclass', 'Sex', 'Age', 'Fare', 'Embarked', 'Title',\n",
        "            'TicketGroupSize', 'InGroup', 'HasCabin', 'FamilySize', 'IsAlone']\n",
        "\n",
        "X = df_titanic_train[features]\n",
        "y = df_titanic_train['Survived']"
      ],
      "metadata": {
        "id": "g7qcS5LVGEtu"
      },
      "execution_count": null,
      "outputs": []
    },
    {
      "cell_type": "markdown",
      "source": [
        "Pipeline con **ColumnTransformer**\n",
        "\n",
        "Separamos las columnas numericas y categoricas para aplicar las transformaciones correspondientes\n",
        "\n",
        "Esto nos sirve para integrar el preprocesamiento dentro del pipeline de modelado, sin tener que hacerlo manualmente antes. Asi podemos usar validacion cruzada, comparar modelos y hacer predicciones sin preocuparnos por inconsistencias en los datos."
      ],
      "metadata": {
        "id": "FwToO3zkGkj5"
      }
    },
    {
      "cell_type": "code",
      "source": [
        "# Los features (columnas) numericas que utilizaremos de nuestro dataset\n",
        "# Las vamos a escalar con StandardScaler para que tengan media 0 y desviacion estandar 1. Es importante para KNN que es sensible a la escala\n",
        "numeric_features = ['Age', 'Fare', 'TicketGroupSize', 'FamilySize']\n",
        "\n",
        "#Los features (columnas) categoricas que utilizaremos de nuestro dataset\n",
        "# Las vamos a codificar con OneHotEncoder, para convertir cada categoria en una columna binaria.\n",
        "categorical_features = ['Pclass', 'Sex', 'Embarked', 'Title', 'InGroup', 'HasCabin', 'IsAlone']\n",
        "\n",
        "# Transformador: ColumnTransformer\n",
        "# Aplicamos StandardScaler a nuestras columnas numericas\n",
        "#Aplicamos OneHotEncoder solo a nuestras columnas categoricas\n",
        "preprocessor = ColumnTransformer(transformers=[\n",
        "    ('num', StandardScaler(), numeric_features),\n",
        "    ('cat', OneHotEncoder(handle_unknown='ignore'), categorical_features) #handle_unknown='ignore' nos evita errores si aparece una categoria nueva en test que no estaba en train\n",
        "])"
      ],
      "metadata": {
        "id": "pwyiKF2PGj-h"
      },
      "execution_count": null,
      "outputs": []
    },
    {
      "cell_type": "markdown",
      "source": [
        "Definimos los clasificadores (LogisticRegression, RandomForest y KNeighbors)\n",
        "\n",
        "Aqui preparamos los modelos de clasificacion supervisada que usaremos en nuestro baseline"
      ],
      "metadata": {
        "id": "OhjC2aevHHT3"
      }
    },
    {
      "cell_type": "code",
      "source": [
        "# Modelos\n",
        "models = {\n",
        "    'Logistic Regression': LogisticRegression(max_iter=1000), # Modelo lineal que estima la probabilidad de que un evento ocurra. Tenemos suficientes iteraciones para converger.\n",
        "    'Random Forest': RandomForestClassifier(n_estimators=100, random_state=42), # Modelo de arboles de decision que captura relaciones no lineales y es robusto ante ruido. 100 arboles en el bosque y aseguramos reproducibilidad (misma semilla = mismos resultados)\n",
        "    'KNN': KNeighborsClassifier(n_neighbors=5) # Este modelo clasifica segun los ejemplos mas similares. Usamos los 5 vecinos mas cercanos para decidir la clase.\n",
        "}"
      ],
      "metadata": {
        "id": "7velneAvHS6-"
      },
      "execution_count": null,
      "outputs": []
    },
    {
      "cell_type": "markdown",
      "source": [
        "Validacion cruzada estratificada"
      ],
      "metadata": {
        "id": "02JVl80gHa_S"
      }
    },
    {
      "cell_type": "code",
      "source": [
        "# Dividimos el dataset en 5 partes, mezclamos los datos antes de dividirlos y aseguramos que los resultados sean reproducibles (misma semilla = misma division)\n",
        "cv = StratifiedKFold(n_splits=5, shuffle=True, random_state=42)\n",
        "\n",
        "# Creamos un diccionario que le dice a cross_validate que metricas vamos a calcular en cada fold\n",
        "# Nosotros le damos el nombre que queramos y cada valor es el identificador que scikit-learn reconoce\n",
        "scoring = {\n",
        "    'AUC': 'roc_auc', # Que tan bien separa el modelo ambas clases\n",
        "    'Accuracy': 'accuracy', # Que porcentaje de predicciones fueron correctas\n",
        "    'Precision': 'precision', # De los que el modelo predijo como 'sobrevivientes', cuantos realmente lo eran?\n",
        "    'Recall': 'recall' # De los que realmente sobrevivieron, ¿cuántos detectó el modelo?\n",
        "}\n"
      ],
      "metadata": {
        "id": "9DK4lQUxHZ2E"
      },
      "execution_count": null,
      "outputs": []
    },
    {
      "cell_type": "markdown",
      "source": [
        "Entrenamos y evaluamos cada modelo"
      ],
      "metadata": {
        "id": "YOapw6hXHplU"
      }
    },
    {
      "cell_type": "code",
      "source": [
        "# Inicializamos un diccionario donde guardaremos las metricas de cada modelo\n",
        "results = {}\n",
        "\n",
        "#Iteramos sobre cada modelo\n",
        "for name, model in models.items(): # Recorremos el diccionario models; 'name' es el nombre del modelo y 'model' es la instancia del clasificador\n",
        "    #Creamos el pipeline; con esto nos aseguramos que cada modelom use exactamente el mismo preprocesamiento para una comparacion justa entre modelos.\n",
        "    pipeline = Pipeline([\n",
        "        ('preprocessing', preprocessor), # Aplicamos el ColumnTransformer (preprocessor) para escalar y codificar nuestras variables\n",
        "        ('classifier', model) # Entrenamos el modelo correspondiente\n",
        "    ])\n",
        "    #Validacion cruzada estratificada\n",
        "    #Entrenamos el pipeline en 5 folds, evaluamos las metricas que definimos en 'scoring' y guardamos los resultados en un diccionario llamado scores.\n",
        "    scores = cross_validate(pipeline, X, y, cv=cv, scoring=scoring) # Este diccionario guardara las listas con los resultados de cada metrica en cada fold\n",
        "\n",
        "    #Calculamos el promedio de cada metrica\n",
        "    # Accedemos a cada metrica en scores, calculamos su promedio con '.mean()' y guardamos ese resultado en el diccionario results bajo el nombre del modelo\n",
        "    results[name] = {metric: scores[f'test_{metric}'].mean() for metric in scoring}"
      ],
      "metadata": {
        "id": "k7beJ8VEHrmG"
      },
      "execution_count": null,
      "outputs": []
    },
    {
      "cell_type": "markdown",
      "source": [
        "Mostramos los resultados"
      ],
      "metadata": {
        "id": "wEZ_q76uH0S_"
      }
    },
    {
      "cell_type": "code",
      "source": [
        "# Convertimos a DataFrame\n",
        "results_df = pd.DataFrame(results).T\n",
        "print(results_df)"
      ],
      "metadata": {
        "id": "j3c8BwpGH2MM"
      },
      "execution_count": null,
      "outputs": []
    },
    {
      "cell_type": "markdown",
      "source": [
        "Visualizamos la matriz de confusion y la curva ROC"
      ],
      "metadata": {
        "id": "mZuKzEjUH8it"
      }
    },
    {
      "cell_type": "code",
      "source": [
        "# Separamos datos del entrenamiento y la validacion\n",
        "X_train, X_val, y_train, y_val = train_test_split(X, y, stratify=y, test_size=0.2, random_state=42)\n",
        "\n",
        "# Creamos el pipeline con preprocesamiento y modelo\n",
        "logreg_pipeline = Pipeline([\n",
        "    ('preprocessing', preprocessor),\n",
        "    ('classifier', LogisticRegression(max_iter=1000))\n",
        "])\n",
        "\n",
        "# Entrenamos el modelo\n",
        "logreg_pipeline.fit(X_train, y_train)\n",
        "\n",
        "# Predecimos en el conjunto de validación\n",
        "y_pred = logreg_pipeline.predict(X_val)\n",
        "\n",
        "# Visualizamos la matriz de confusión\n",
        "ConfusionMatrixDisplay.from_predictions(\n",
        "    y_val,\n",
        "    y_pred,\n",
        "    display_labels=['No sobrevivió', 'Sobrevivió'],\n",
        "    cmap='Blues'\n",
        ")\n",
        "\n",
        "plt.title(\"Matriz de Confusión - Regresión Logística\")\n",
        "plt.show()"
      ],
      "metadata": {
        "id": "bHahnlmgH_7h"
      },
      "execution_count": null,
      "outputs": []
    },
    {
      "cell_type": "code",
      "source": [
        "# --- Matriz de confusion pars Random Forest\n",
        "\n",
        "# Separamos datos en entrenamiento y validación\n",
        "X_train, X_val, y_train, y_val = train_test_split(X, y, stratify=y, test_size=0.2, random_state=42)\n",
        "\n",
        "# Creamos el pipeline con preprocesamiento y modelo Random Forest\n",
        "rf_pipeline = Pipeline([\n",
        "    ('preprocessing', preprocessor),\n",
        "    ('classifier', RandomForestClassifier(n_estimators=100, random_state=42))\n",
        "])\n",
        "\n",
        "# Entrenamos el modelo\n",
        "rf_pipeline.fit(X_train, y_train)\n",
        "\n",
        "# Predecimos en el conjunto de validación\n",
        "y_pred = rf_pipeline.predict(X_val)\n",
        "\n",
        "# Visualizamos la matriz de confusión\n",
        "ConfusionMatrixDisplay.from_predictions(\n",
        "    y_val,\n",
        "    y_pred,\n",
        "    display_labels=['No sobrevivió', 'Sobrevivió'],\n",
        "    cmap='Blues'\n",
        ")\n",
        "\n",
        "plt.title(\"Matriz de Confusión - Random Forest\")\n",
        "plt.show()\n"
      ],
      "metadata": {
        "id": "xfy9WC6a5_G6"
      },
      "execution_count": null,
      "outputs": []
    },
    {
      "cell_type": "code",
      "source": [
        "# --- Matriz de confusion para KNN ---\n",
        "\n",
        "# Separamos datos en entrenamiento y validación\n",
        "X_train, X_val, y_train, y_val = train_test_split(X, y, stratify=y, test_size=0.2, random_state=42)\n",
        "\n",
        "# Creamos el pipeline con preprocesamiento y modelo KNN\n",
        "knn_pipeline = Pipeline([\n",
        "    ('preprocessing', preprocessor),\n",
        "    ('classifier', KNeighborsClassifier(n_neighbors=5))\n",
        "])\n",
        "\n",
        "# Entrenamos el modelo\n",
        "knn_pipeline.fit(X_train, y_train)\n",
        "\n",
        "# Predecimos en el conjunto de validación\n",
        "y_pred = knn_pipeline.predict(X_val)\n",
        "\n",
        "# Visualizamos la matriz de confusión\n",
        "ConfusionMatrixDisplay.from_predictions(\n",
        "    y_val,\n",
        "    y_pred,\n",
        "    display_labels=['No sobrevivió', 'Sobrevivió'],\n",
        "    cmap='Blues'\n",
        ")\n",
        "\n",
        "plt.title(\"Matriz de Confusión - KNN\")\n",
        "plt.show()"
      ],
      "metadata": {
        "id": "1XMXly8v65oc"
      },
      "execution_count": null,
      "outputs": []
    },
    {
      "cell_type": "code",
      "source": [
        "# --- Curva ROC para la regresion logistica ---\n",
        "\n",
        "# Separamos datos en entrenamiento y validación\n",
        "X_train, X_val, y_train, y_val = train_test_split(X, y, stratify=y, test_size=0.2, random_state=42)\n",
        "\n",
        "# Creamos pipeline con preprocesamiento y modelo\n",
        "logreg_pipeline = Pipeline([\n",
        "    ('preprocessing', preprocessor),\n",
        "    ('classifier', LogisticRegression(max_iter=1000))\n",
        "])\n",
        "\n",
        "# Entrenamos el modelo\n",
        "logreg_pipeline.fit(X_train, y_train)\n",
        "\n",
        "# Obtenemos probabilidades de clase positiva\n",
        "y_proba = logreg_pipeline.predict_proba(X_val)[:, 1]\n",
        "\n",
        "# Visualizamos la curva ROC\n",
        "RocCurveDisplay.from_predictions(y_val, y_proba)\n",
        "\n",
        "plt.title(\"Curva ROC - Regresión Logística\")\n",
        "plt.show()"
      ],
      "metadata": {
        "id": "fB7gUcjX0Sj8"
      },
      "execution_count": null,
      "outputs": []
    },
    {
      "cell_type": "code",
      "source": [
        "# --- Curva ROC para random forest ---\n",
        "\n",
        "# Separamos datos en entrenamiento y validación\n",
        "X_train, X_val, y_train, y_val = train_test_split(X, y, stratify=y, test_size=0.2, random_state=42)\n",
        "\n",
        "# Creamos pipeline con preprocesamiento y modelo Random Forest\n",
        "rf_pipeline = Pipeline([\n",
        "    ('preprocessing', preprocessor),\n",
        "    ('classifier', RandomForestClassifier(n_estimators=100, random_state=42))\n",
        "])\n",
        "\n",
        "# Entrenamos el modelo\n",
        "rf_pipeline.fit(X_train, y_train)\n",
        "\n",
        "# Obtenemos probabilidades de clase positiva\n",
        "y_proba = rf_pipeline.predict_proba(X_val)[:, 1]\n",
        "\n",
        "# Visualizamos la curva ROC\n",
        "RocCurveDisplay.from_predictions(y_val, y_proba)\n",
        "\n",
        "plt.title(\"Curva ROC - Random Forest\")\n",
        "plt.show()"
      ],
      "metadata": {
        "id": "sNzjA7mB7mCY"
      },
      "execution_count": null,
      "outputs": []
    },
    {
      "cell_type": "code",
      "source": [
        "# --- Curva ROC para KNN ---\n",
        "\n",
        "# Separamos datos en entrenamiento y validación\n",
        "X_train, X_val, y_train, y_val = train_test_split(X, y, stratify=y, test_size=0.2, random_state=42)\n",
        "\n",
        "# Creamos pipeline con preprocesamiento y modelo KNN\n",
        "knn_pipeline = Pipeline([\n",
        "    ('preprocessing', preprocessor),\n",
        "    ('classifier', KNeighborsClassifier(n_neighbors=5))\n",
        "])\n",
        "\n",
        "# Entrenamos el modelo\n",
        "knn_pipeline.fit(X_train, y_train)\n",
        "\n",
        "# Obtenemos probabilidades de clase positiva\n",
        "y_proba = knn_pipeline.predict_proba(X_val)[:, 1]\n",
        "\n",
        "# Visualizamos la curva ROC\n",
        "RocCurveDisplay.from_predictions(y_val, y_proba)\n",
        "\n",
        "plt.title(\"Curva ROC - KNN\")\n",
        "plt.show()"
      ],
      "metadata": {
        "id": "APv-lP3d7z5u"
      },
      "execution_count": null,
      "outputs": []
    },
    {
      "cell_type": "markdown",
      "source": [
        "Comparamos las tres curvas de ROC\n",
        "\n",
        "Esto lo hacemos para visualizar cual modelo separa mejor las clases de una persona (si sobrevivio o no)"
      ],
      "metadata": {
        "id": "kJVR4Iwf8GJ9"
      }
    },
    {
      "cell_type": "code",
      "source": [
        "# Separamos datos en entrenamiento y validación\n",
        "X_train, X_val, y_train, y_val = train_test_split(X, y, stratify=y, test_size=0.2, random_state=42)\n",
        "\n",
        "# Definimos los modelos\n",
        "modelos = {\n",
        "    'Logistic Regression': LogisticRegression(max_iter=1000),\n",
        "    'Random Forest': RandomForestClassifier(n_estimators=100, random_state=42),\n",
        "    'KNN': KNeighborsClassifier(n_neighbors=5)\n",
        "}\n",
        "\n",
        "# Inicializamos gráfica\n",
        "plt.figure(figsize=(8, 6))\n",
        "\n",
        "# Entrenamos cada modelo y graficar su curva ROC\n",
        "for nombre, modelo in modelos.items():\n",
        "    pipeline = Pipeline([\n",
        "        ('preprocessing', preprocessor),\n",
        "        ('classifier', modelo)\n",
        "    ])\n",
        "\n",
        "    pipeline.fit(X_train, y_train)\n",
        "    y_proba = pipeline.predict_proba(X_val)[:, 1]\n",
        "\n",
        "    fpr, tpr, _ = roc_curve(y_val, y_proba)\n",
        "    roc_auc = auc(fpr, tpr)\n",
        "\n",
        "    plt.plot(fpr, tpr, label=f'{nombre} (AUC = {roc_auc:.3f})')\n",
        "\n",
        "\n",
        "plt.plot([0, 1], [0, 1], 'k--', label='Azar (AUC = 0.5)')\n",
        "plt.xlabel('Tasa de Falsos Positivos')\n",
        "plt.ylabel('Tasa de Verdaderos Positivos')\n",
        "plt.title('Comparación de Curvas ROC')\n",
        "plt.legend(loc='lower right')\n",
        "plt.grid(True)\n",
        "plt.tight_layout()\n",
        "plt.show()"
      ],
      "metadata": {
        "id": "C3Zc7tv18UqZ"
      },
      "execution_count": null,
      "outputs": []
    },
    {
      "cell_type": "markdown",
      "source": [
        "# 2. Analisis no supervisado (k-means)\n",
        "\n",
        "*   Aplicar K-means con K = 4\n",
        "*   Reportar: tasa de supervivencia por cluster, numero de pasajeros\n",
        "*   Interpretar arquetipos (ej.: Mujeres jovenes de 1a clase).\n",
        "\n"
      ],
      "metadata": {
        "id": "ZQkDAur4JdOP"
      }
    },
    {
      "cell_type": "markdown",
      "source": [
        "Seleccionamos las variables para nuestro cluistering\n",
        "\n",
        "Es decir, vamos a elegir las variables para segmentar los perfiles de nuestros pasajeros, aqui como es \"no supervisado\" no agregamos la variable survived"
      ],
      "metadata": {
        "id": "OCVKGS69JcAa"
      }
    },
    {
      "cell_type": "code",
      "source": [
        "from sklearn.preprocessing import StandardScaler\n",
        "\n",
        "# Nuestras variables para clustering\n",
        "cluster_features = ['Pclass', 'Sex', 'Age', 'Fare', 'FamilySize', 'IsAlone']\n",
        "\n",
        "X_cluster = df_titanic_train[cluster_features]\n",
        "\n",
        "# Escalado\n",
        "scaler = StandardScaler()\n",
        "X_scaled = scaler.fit_transform(X_cluster)"
      ],
      "metadata": {
        "id": "dlIbo7XsJuuU"
      },
      "execution_count": null,
      "outputs": []
    },
    {
      "cell_type": "markdown",
      "source": [
        "Aplicamos K-Means con k = 4"
      ],
      "metadata": {
        "id": "9JQXR1rcJ2Qz"
      }
    },
    {
      "cell_type": "code",
      "source": [
        "from sklearn.cluster import KMeans\n",
        "\n",
        "# Definimos nuestro modelo\n",
        "kmeans = KMeans(n_clusters=4, random_state=42, n_init='auto')\n",
        "df_titanic_train['Cluster'] = kmeans.fit_predict(X_scaled)"
      ],
      "metadata": {
        "id": "5wGx51GFJ7rz"
      },
      "execution_count": null,
      "outputs": []
    },
    {
      "cell_type": "markdown",
      "source": [
        "Reportamos la tasa de supervivencia por cluster"
      ],
      "metadata": {
        "id": "V_T4jaSDKCk6"
      }
    },
    {
      "cell_type": "code",
      "source": [
        "# Agrupamos por cluster y calculamos las metricas\n",
        "cluster_summary = df_titanic_train.groupby('Cluster').agg({\n",
        "    'Survived': ['mean', 'count'],\n",
        "    'Pclass': 'mean',\n",
        "    'Sex': 'mean',\n",
        "    'Age': 'mean',\n",
        "    'Fare': 'mean',\n",
        "    'FamilySize': 'mean',\n",
        "    'IsAlone': 'mean'\n",
        "})\n",
        "\n",
        "cluster_summary.columns = ['SurvivalRate', 'PassengerCount', 'AvgPclass', 'AvgSex', 'AvgAge', 'AvgFare', 'AvgFamilySize', 'AvgIsAlone']\n",
        "print(cluster_summary)"
      ],
      "metadata": {
        "id": "QHNhO7h7KKAe"
      },
      "execution_count": null,
      "outputs": []
    },
    {
      "cell_type": "markdown",
      "source": [
        "Interpretamos los arquetipos\n",
        "\n",
        "Usamos los promedios por cluster para entender qué tipo de perfil representa cada grupo. Por ejemplo:\n",
        "\n",
        "*   AvgSex ≈ 1 → mayoría mujeres\n",
        "*   AvgPclass ≈ 1 → primera clase\n",
        "*   AvgAge < 30 → jóvenes\n",
        "*   AvgIsAlone ≈ 0 → viajaban acompañados"
      ],
      "metadata": {
        "id": "jhrUVpvSKV5o"
      }
    },
    {
      "cell_type": "code",
      "source": [
        "def interpretar_cluster(row):\n",
        "    sexo = 'Mujeres' if row['AvgSex'] > 0.5 else 'Hombres'\n",
        "    clase = f\"{int(round(row['AvgPclass']))}ª clase\"\n",
        "    edad = 'jóvenes' if row['AvgAge'] < 30 else 'mayores'\n",
        "    acompañamiento = 'acompañados' if row['AvgIsAlone'] < 0.5 else 'solos'\n",
        "    return f\"{sexo} {edad} de {clase}, {acompañamiento}\"\n",
        "\n",
        "cluster_summary['Arquetipo'] = cluster_summary.apply(interpretar_cluster, axis=1)\n",
        "print(cluster_summary[['PassengerCount', 'SurvivalRate', 'Arquetipo']])"
      ],
      "metadata": {
        "id": "-AKQMhiwKYDN"
      },
      "execution_count": null,
      "outputs": []
    },
    {
      "cell_type": "markdown",
      "source": [
        "Visualizacion de los clusters con PCA"
      ],
      "metadata": {
        "id": "ThdXLFlgWHkg"
      }
    },
    {
      "cell_type": "code",
      "source": [
        "# Aplicamos PCA\n",
        "pca = PCA(n_components=2)\n",
        "X_pca = pca.fit_transform(X_scaled)\n",
        "\n",
        "df_titanic_train['PCA1'] = X_pca[:, 0]\n",
        "df_titanic_train['PCA2'] = X_pca[:, 1]\n",
        "\n",
        "# Creamos diccionario de nombres de cluster\n",
        "cluster_labels = cluster_summary['Arquetipo'].to_dict()  # Usa el índice como clave (número de cluster)\n",
        "\n",
        "# Mapeamos nombres al dataframe\n",
        "df_titanic_train['ClusterLabel'] = df_titanic_train['Cluster'].map(cluster_labels)\n",
        "\n",
        "# 4. Graficamos\n",
        "plt.figure(figsize=(10, 6))\n",
        "sns.scatterplot(data=df_titanic_train, x='PCA1', y='PCA2', hue='ClusterLabel', palette='tab10')\n",
        "plt.title(\"Visualización de Clusters en 2D (PCA)\", fontsize=14)\n",
        "plt.xlabel(\"Componente Principal 1\")\n",
        "plt.ylabel(\"Componente Principal 2\")\n",
        "plt.legend(title=\"Arquetipo de Cluster\", bbox_to_anchor=(1.05, 1), loc='upper left')\n",
        "plt.tight_layout()\n",
        "plt.show()"
      ],
      "metadata": {
        "id": "-G_fs2c_V6OA"
      },
      "execution_count": null,
      "outputs": []
    },
    {
      "cell_type": "markdown",
      "source": [
        "Analisis de supervivencia por cluster"
      ],
      "metadata": {
        "id": "-9Ed7qDcWQvN"
      }
    },
    {
      "cell_type": "code",
      "source": [
        "# Creamos el DataFrame con etiquetas interpretativas\n",
        "cluster_plot_df = cluster_summary.reset_index()[['Cluster', 'SurvivalRate', 'Arquetipo']]\n",
        "\n",
        "# Graficamos\n",
        "plt.figure(figsize=(10, 6))\n",
        "sns.barplot(data=cluster_plot_df, x='Arquetipo', y='SurvivalRate', palette='viridis')\n",
        "plt.title(\"Tasa de Supervivencia por Arquetipo de Cluster\", fontsize=14)\n",
        "plt.ylabel(\"Supervivencia Promedio\")\n",
        "plt.xlabel(\"Perfil del Cluster\")\n",
        "plt.xticks(rotation=45, ha='right')\n",
        "plt.tight_layout()\n",
        "plt.show()"
      ],
      "metadata": {
        "id": "yZC90-dFWOGs"
      },
      "execution_count": null,
      "outputs": []
    },
    {
      "cell_type": "markdown",
      "source": [
        "# 3. Estrategia híbrida  "
      ],
      "metadata": {
        "id": "LE4x8BxCJ7i-"
      }
    },
    {
      "cell_type": "markdown",
      "source": [
        "## Ruta A: Mixture of Experts (MoE)"
      ],
      "metadata": {
        "id": "HYk9zQ04DnNH"
      }
    },
    {
      "cell_type": "markdown",
      "source": [
        "Definimos tres modelos (supervisados) que actuarán como expertos locales dentro de cada cluster (no supervisado):\n",
        "\n",
        "logreg: Logistic Regression\n",
        "rf: Random Forest\n",
        "knn: K-Nearest Neighbors\n",
        "Cada cluster tendrá un VotingClassifier que combinará estos expertos."
      ],
      "metadata": {
        "id": "slINrSoRDfEy"
      }
    },
    {
      "cell_type": "code",
      "source": [
        "# Diccionario de modelos base\n",
        "base_models = {\n",
        "    'logreg': LogisticRegression(max_iter=1000),\n",
        "    'rf': RandomForestClassifier(n_estimators=100, random_state=42),\n",
        "    'knn': KNeighborsClassifier(n_neighbors=5)\n",
        "}"
      ],
      "metadata": {
        "id": "n_VTGKTKDsDI"
      },
      "execution_count": null,
      "outputs": []
    },
    {
      "cell_type": "markdown",
      "source": [
        "Creamos un preprocesador global utilizando ColumnTransformer (como en nuestro baseline).\n",
        "\n",
        "Al ejecutar *preprocessor.fit(train[features])*, el preprocesador aprende las medias y desviaciones de las columnas numéricas y registra todas las categorías presentes en las columnas categóricas, pero se hace sobre todo el dataset de entrenamiento y no por cluster.\n",
        "\n",
        "De esta manera nos aseguramos que todos los expertos entrenados por cluster vean exactamente las mismas columnas transformadas, evitando inconsistencias en las dimensiones de los datos (*n_features*) al momento de hacer predicciones."
      ],
      "metadata": {
        "id": "XAAgEzdvDu3J"
      }
    },
    {
      "cell_type": "code",
      "source": [
        "preprocessor = ColumnTransformer(transformers=[\n",
        "    ('num', StandardScaler(), numeric_features),\n",
        "    ('cat', OneHotEncoder(handle_unknown='ignore'), categorical_features)\n",
        "])\n",
        "preprocessor.fit(df_titanic_train[features])"
      ],
      "metadata": {
        "id": "R6L_Pvg6DvXB"
      },
      "execution_count": null,
      "outputs": []
    },
    {
      "cell_type": "markdown",
      "source": [
        "Aplicamos la transformación a todo el conjunto de entrenamiento y validación."
      ],
      "metadata": {
        "id": "nadDQCxUDywk"
      }
    },
    {
      "cell_type": "code",
      "source": [
        "X_train_transformed = preprocessor.transform(X_train)\n",
        "X_val_transformed = preprocessor.transform(X_val)"
      ],
      "metadata": {
        "id": "ZjzI9k2HD0_e"
      },
      "execution_count": null,
      "outputs": []
    },
    {
      "cell_type": "markdown",
      "source": [
        "**Entrenamiento**\n",
        "\n",
        "En este paso, iteramos sobre cada cluster (previamente definido por K-means). Para cada uno, se seleccionan únicamente las filas del conjunto de entrenamiento que pertenecen a ese grupo, generando así un subconjunto de datos (*X_cluster* y *y_cluster*) ya transformados por el preprocesador global.\n",
        "\n",
        "Sobre este subconjunto se entrena un *VotingClassifier*, que combina los tres modelos base (Logistic Regression, Random Forest y KNN) utilizando soft voting; es decir, cada modelo calcula la probabilidad de pertenencia a cada clase y estas probabilidades se promedian para determinar la predicción final del cluster.\n",
        "Una vez entrenado, este VotingClassifier se guarda como el “experto” encargado de ese cluster en particular.\n",
        "\n",
        "Es en esta parte donde aplicamos una estrategía híbrida:\n",
        "- No supervisado: K-means define clusters.\n",
        "- Supervisado: cada cluster tiene un conjunto de expertos (LR, RF, KNN) que predicen."
      ],
      "metadata": {
        "id": "3f_3lG0WD259"
      }
    },
    {
      "cell_type": "code",
      "source": [
        "expert_models = {}\n",
        "\n",
        "for cluster_id in df_titanic_train['Cluster'].unique():\n",
        "    cluster_idx = df_titanic_train.loc[X_train.index, 'Cluster'] == cluster_id\n",
        "    X_cluster = X_train_transformed[cluster_idx]\n",
        "    y_cluster = y_train[cluster_idx]\n",
        "\n",
        "    # Crear un VotingClassifier con los tres expertos\n",
        "    voting_clf = VotingClassifier(\n",
        "        estimators=[(name, model) for name, model in base_models.items()],\n",
        "        voting='soft'\n",
        "    )\n",
        "\n",
        "    voting_clf.fit(X_cluster, y_cluster)\n",
        "    expert_models[cluster_id] = voting_clf"
      ],
      "metadata": {
        "id": "0-bVX8a-D5P4"
      },
      "execution_count": null,
      "outputs": []
    },
    {
      "cell_type": "markdown",
      "source": [
        "**Predicciones**\n",
        "\n",
        "En este paso, se asigna a cada fila del conjunto de validación el cluster al que pertenece, recuperando la información de cluster que fue generada previamente por K-means sobre todo el dataset de entrenamiento. Luego, se itera sobre cada cluster y se localizan las posiciones relativas en *X_val* que corresponden a ese grupo; con esas posiciones se seleccionan únicamente las observaciones del cluster actual (X_subset). Cada uno de estos grupos de pasajeros es enviado al VotingClassifier específico del cluster.\n",
        "\n",
        " Las predicciones generadas por cada experto se colocan en las posiciones correctas dentro del vector *y_pred_hybrid*. De esta manera, cada pasajero es evaluado por el experto correspondiente a su cluster, asegurando que los patrones locales de cada grupo sean capturados correctamente."
      ],
      "metadata": {
        "id": "ZYrYlMHVD7Io"
      }
    },
    {
      "cell_type": "code",
      "source": [
        "y_pred_hybrid = np.zeros(len(X_val))\n",
        "val_cluster_ids = df_titanic_train.loc[X_val.index, 'Cluster']\n",
        "\n",
        "for cluster_id in df_titanic_train['Cluster'].unique():\n",
        "    idx_relative = np.where(val_cluster_ids.values == cluster_id)[0]\n",
        "    if len(idx_relative) == 0:\n",
        "        continue\n",
        "\n",
        "    X_subset = X_val_transformed[idx_relative]\n",
        "    model = expert_models[cluster_id]\n",
        "    y_pred_hybrid[idx_relative] = model.predict(X_subset)"
      ],
      "metadata": {
        "id": "E3WzlPqJECj4"
      },
      "execution_count": null,
      "outputs": []
    },
    {
      "cell_type": "markdown",
      "source": [
        "**Visualización**\n",
        "\n",
        "\n",
        "Desplegamos las métricas de desempeño, junto a la Matriz de Confusión y la Curva ROC"
      ],
      "metadata": {
        "id": "BrGqtd9REKDC"
      }
    },
    {
      "cell_type": "code",
      "source": [
        "# Métricas\n",
        "print(\"Accuracy:\", accuracy_score(y_val, y_pred_hybrid))\n",
        "print(\"Precision:\", precision_score(y_val, y_pred_hybrid))\n",
        "print(\"Recall:\", recall_score(y_val, y_pred_hybrid))\n",
        "print(\"AUC:\", roc_auc_score(y_val, y_pred_hybrid))"
      ],
      "metadata": {
        "id": "jjn3PBcJEMAd"
      },
      "execution_count": null,
      "outputs": []
    },
    {
      "cell_type": "code",
      "source": [
        "# --- Matriz de Confusión para MoE por clusters ---\n",
        "ConfusionMatrixDisplay.from_predictions(\n",
        "    y_val, y_pred_hybrid, display_labels=['No sobrevivió', 'Sobrevivió'], cmap='Blues'\n",
        ")\n",
        "plt.title(\"Matriz de Confusión - Ruta A MoE por clusters\")\n",
        "plt.show()"
      ],
      "metadata": {
        "id": "qT5FVQqcEP-R"
      },
      "execution_count": null,
      "outputs": []
    },
    {
      "cell_type": "code",
      "source": [
        "# --- Curva ROC para MoE por clusters ---\n",
        "\n",
        "# Inicializamos el vector de probabilidades\n",
        "y_prob_hybrid = np.zeros(len(X_val))\n",
        "val_cluster_ids = df_titanic_train.loc[X_val.index, 'Cluster']\n",
        "\n",
        "# Obtenemos probabilidades por cluster\n",
        "for cluster_id in df_titanic_train['Cluster'].unique():\n",
        "    idx_relative = np.where(val_cluster_ids.values == cluster_id)[0]\n",
        "    if len(idx_relative) > 0:\n",
        "        X_subset = X_val_transformed[idx_relative]\n",
        "        model = expert_models[cluster_id]\n",
        "\n",
        "        # Obtenemos probabilidades de clase positiva\n",
        "        y_prob_hybrid[idx_relative] = model.predict_proba(X_subset)[:, 1]\n",
        "\n",
        "# Visualizamos la curva ROC\n",
        "RocCurveDisplay.from_predictions(y_val, y_prob_hybrid)\n",
        "plt.title(\"Curva ROC - MoE por Clusters\")\n",
        "plt.show()"
      ],
      "metadata": {
        "id": "rNkyzrlrERHX"
      },
      "execution_count": null,
      "outputs": []
    },
    {
      "cell_type": "markdown",
      "source": [
        "## Ruta B: Cluster como feature adicional"
      ],
      "metadata": {
        "id": "4AuuSPeJEUml"
      }
    },
    {
      "cell_type": "code",
      "source": [
        "# Nuestras features (Agregamos la feature de \"Cluster\")\n",
        "features_B = ['Pclass', 'Sex', 'Age', 'Fare', 'Embarked', 'Title',\n",
        "            'TicketGroupSize', 'InGroup', 'HasCabin', 'FamilySize', 'IsAlone', 'Cluster']\n",
        "\n",
        "X = df_titanic_train[features_B]\n",
        "y = df_titanic_train['Survived']"
      ],
      "metadata": {
        "id": "tRseI_aiEV2_"
      },
      "execution_count": null,
      "outputs": []
    },
    {
      "cell_type": "code",
      "source": [
        "# Los features (columnas) numericas que utilizaremos de nuestro dataset\n",
        "numeric_features_B = ['Age', 'Fare', 'TicketGroupSize', 'FamilySize']\n",
        "\n",
        "#Los features (columnas) categoricas que utilizaremos de nuestro dataset. Se agrega 'Cluster'\n",
        "categorical_features_B = ['Pclass', 'Sex', 'Embarked', 'Title', 'InGroup', 'HasCabin', 'IsAlone', 'Cluster']\n",
        "\n",
        "# Transformador: ColumnTransformer\n",
        "# Aplicamos StandardScaler a nuestras columnas numericas\n",
        "# Aplicamos OneHotEncoder solo a nuestras columnas categoricas\n",
        "preprocessor = ColumnTransformer(transformers=[\n",
        "    ('num', StandardScaler(), numeric_features_B),\n",
        "    ('cat', OneHotEncoder(handle_unknown='ignore'), categorical_features_B) #handle_unknown='ignore' nos evita errores si aparece una categoria nueva en test que no estaba en train\n",
        "])"
      ],
      "metadata": {
        "id": "-dNJHYTPEYeI"
      },
      "execution_count": null,
      "outputs": []
    },
    {
      "cell_type": "code",
      "source": [
        "results_B = {}\n",
        "for name, model in models.items():\n",
        "    pipeline = Pipeline([\n",
        "        ('preprocessing', preprocessor),\n",
        "        ('classifier', model)\n",
        "    ])\n",
        "    scores = cross_validate(pipeline, X, y, cv=cv, scoring=scoring)\n",
        "    results_B[name] = {metric: scores[f'test_{metric}'].mean() for metric in scoring}"
      ],
      "metadata": {
        "id": "w8_AxMS_EaSU"
      },
      "execution_count": null,
      "outputs": []
    },
    {
      "cell_type": "code",
      "source": [
        "# Convertimos a DataFrame\n",
        "results_df_B = pd.DataFrame(results_B).T\n",
        "print(results_df_B)"
      ],
      "metadata": {
        "id": "UQQi48iWEbgh"
      },
      "execution_count": null,
      "outputs": []
    },
    {
      "cell_type": "markdown",
      "source": [
        "Los resultados obtenidos indican que no existe una diferencia significativa en las métricas al comparar los modelos que utilizan la feature de 'Cluster' con aquellos que no la consideran. Por lo tanto, podemos concluir que agregar esta variable no aporta una mejora relevante en el desempeño de los modelos y, en este caso, no justifica su inclusión."
      ],
      "metadata": {
        "id": "e9XYhn5wE4mk"
      }
    },
    {
      "cell_type": "markdown",
      "source": [
        "# Discusión\n",
        "\n",
        "- **¿Qué se gana o pierde al introducir clusters?**  Se gana interpretabilidad por arquetipos con diferencias reales de supervivencia (ejemplo: el Cluster 2 ~77.6% vs. Cluster 1 ~23.8%), lo que ayuda a explicar patrones por perfil (mujeres 1ª clase acompañadas vs. hombres 3ª clase solos). Se pierde **rendimiento y simplicidad** la Ruta A (Mixture of Experts por cluster) baja a AUC ≈ 0.768 en validación, además añadir clusters no mejora métricas frente al baseline.\n",
        "\n",
        "- **¿Cambió el mejor modelo?** No. El baseline de Regresión Logística sigue siendo el mejor por AUC (~0.870 con CV). Con Ruta B (Cluster como feature) las métricas quedan prácticamente iguales (LogReg AUC ~0.8695), y la Ruta A (MoE por cluster) rinde peor (AUC ~0.768). En resumen, introducir clustering no mejoró tu mejor modelo y, en la variante MoE, lo degradó.\n",
        "\n",
        "- **Riesgos de fuga de información.**  \n",
        "\n",
        "  - **Clustering fuera del split/CV**: En el análisis, **K-means se ajusta con todo el dataset** y luego se reutiliza la etiqueta de `Cluster` para el conjunto de validación (`val_cluster_ids`), filtrando información del fold de validación.  \n",
        "  - **Imputaciones globales**: La variable **Age se imputa con la mediana de Title** y **Embarked con la moda** calculadas directamente sobre todo el dataset.\n",
        "  - **Features con conocimiento global**: Variables como **TicketGroupSize/InGroup** se calculan a partir de todo el dataset, lo que implica fuga de información."
      ],
      "metadata": {
        "id": "BEmKbPvBZu0p"
      }
    }
  ]
}